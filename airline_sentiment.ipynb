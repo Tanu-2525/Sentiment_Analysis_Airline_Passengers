{
 "cells": [
  {
   "cell_type": "code",
   "execution_count": 1,
   "metadata": {},
   "outputs": [],
   "source": [
    "import pandas as pd\n",
    "import numpy as np\n",
    "import matplotlib.pyplot as plt\n",
    "%matplotlib inline\n"
   ]
  },
  {
   "cell_type": "code",
   "execution_count": 2,
   "metadata": {},
   "outputs": [],
   "source": [
    "df=pd.read_csv(\"Airline_review.csv\")"
   ]
  },
  {
   "cell_type": "code",
   "execution_count": 3,
   "metadata": {},
   "outputs": [
    {
     "data": {
      "text/plain": [
       "(23171, 20)"
      ]
     },
     "execution_count": 3,
     "metadata": {},
     "output_type": "execute_result"
    }
   ],
   "source": [
    "df.shape"
   ]
  },
  {
   "cell_type": "code",
   "execution_count": 4,
   "metadata": {},
   "outputs": [
    {
     "data": {
      "text/html": [
       "<div>\n",
       "<style scoped>\n",
       "    .dataframe tbody tr th:only-of-type {\n",
       "        vertical-align: middle;\n",
       "    }\n",
       "\n",
       "    .dataframe tbody tr th {\n",
       "        vertical-align: top;\n",
       "    }\n",
       "\n",
       "    .dataframe thead th {\n",
       "        text-align: right;\n",
       "    }\n",
       "</style>\n",
       "<table border=\"1\" class=\"dataframe\">\n",
       "  <thead>\n",
       "    <tr style=\"text-align: right;\">\n",
       "      <th></th>\n",
       "      <th>Unnamed: 0</th>\n",
       "      <th>Airline Name</th>\n",
       "      <th>Overall_Rating</th>\n",
       "      <th>Review_Title</th>\n",
       "      <th>Review Date</th>\n",
       "      <th>Verified</th>\n",
       "      <th>Review</th>\n",
       "      <th>Aircraft</th>\n",
       "      <th>Type Of Traveller</th>\n",
       "      <th>Seat Type</th>\n",
       "      <th>Route</th>\n",
       "      <th>Date Flown</th>\n",
       "      <th>Seat Comfort</th>\n",
       "      <th>Cabin Staff Service</th>\n",
       "      <th>Food &amp; Beverages</th>\n",
       "      <th>Ground Service</th>\n",
       "      <th>Inflight Entertainment</th>\n",
       "      <th>Wifi &amp; Connectivity</th>\n",
       "      <th>Value For Money</th>\n",
       "      <th>Recommended</th>\n",
       "    </tr>\n",
       "  </thead>\n",
       "  <tbody>\n",
       "    <tr>\n",
       "      <th>0</th>\n",
       "      <td>0</td>\n",
       "      <td>AB Aviation</td>\n",
       "      <td>9</td>\n",
       "      <td>\"pretty decent airline\"</td>\n",
       "      <td>11th November 2019</td>\n",
       "      <td>True</td>\n",
       "      <td>Moroni to Moheli. Turned out to be a pretty ...</td>\n",
       "      <td>NaN</td>\n",
       "      <td>Solo Leisure</td>\n",
       "      <td>Economy Class</td>\n",
       "      <td>Moroni to Moheli</td>\n",
       "      <td>November 2019</td>\n",
       "      <td>4.0</td>\n",
       "      <td>5.0</td>\n",
       "      <td>4.0</td>\n",
       "      <td>4.0</td>\n",
       "      <td>NaN</td>\n",
       "      <td>NaN</td>\n",
       "      <td>3.0</td>\n",
       "      <td>yes</td>\n",
       "    </tr>\n",
       "    <tr>\n",
       "      <th>1</th>\n",
       "      <td>1</td>\n",
       "      <td>AB Aviation</td>\n",
       "      <td>1</td>\n",
       "      <td>\"Not a good airline\"</td>\n",
       "      <td>25th June 2019</td>\n",
       "      <td>True</td>\n",
       "      <td>Moroni to Anjouan. It is a very small airline...</td>\n",
       "      <td>E120</td>\n",
       "      <td>Solo Leisure</td>\n",
       "      <td>Economy Class</td>\n",
       "      <td>Moroni to Anjouan</td>\n",
       "      <td>June 2019</td>\n",
       "      <td>2.0</td>\n",
       "      <td>2.0</td>\n",
       "      <td>1.0</td>\n",
       "      <td>1.0</td>\n",
       "      <td>NaN</td>\n",
       "      <td>NaN</td>\n",
       "      <td>2.0</td>\n",
       "      <td>no</td>\n",
       "    </tr>\n",
       "    <tr>\n",
       "      <th>2</th>\n",
       "      <td>2</td>\n",
       "      <td>AB Aviation</td>\n",
       "      <td>1</td>\n",
       "      <td>\"flight was fortunately short\"</td>\n",
       "      <td>25th June 2019</td>\n",
       "      <td>True</td>\n",
       "      <td>Anjouan to Dzaoudzi. A very small airline an...</td>\n",
       "      <td>Embraer E120</td>\n",
       "      <td>Solo Leisure</td>\n",
       "      <td>Economy Class</td>\n",
       "      <td>Anjouan to Dzaoudzi</td>\n",
       "      <td>June 2019</td>\n",
       "      <td>2.0</td>\n",
       "      <td>1.0</td>\n",
       "      <td>1.0</td>\n",
       "      <td>1.0</td>\n",
       "      <td>NaN</td>\n",
       "      <td>NaN</td>\n",
       "      <td>2.0</td>\n",
       "      <td>no</td>\n",
       "    </tr>\n",
       "    <tr>\n",
       "      <th>3</th>\n",
       "      <td>3</td>\n",
       "      <td>Adria Airways</td>\n",
       "      <td>1</td>\n",
       "      <td>\"I will never fly again with Adria\"</td>\n",
       "      <td>28th September 2019</td>\n",
       "      <td>False</td>\n",
       "      <td>Please do a favor yourself and do not fly wi...</td>\n",
       "      <td>NaN</td>\n",
       "      <td>Solo Leisure</td>\n",
       "      <td>Economy Class</td>\n",
       "      <td>Frankfurt to Pristina</td>\n",
       "      <td>September 2019</td>\n",
       "      <td>1.0</td>\n",
       "      <td>1.0</td>\n",
       "      <td>NaN</td>\n",
       "      <td>1.0</td>\n",
       "      <td>NaN</td>\n",
       "      <td>NaN</td>\n",
       "      <td>1.0</td>\n",
       "      <td>no</td>\n",
       "    </tr>\n",
       "    <tr>\n",
       "      <th>4</th>\n",
       "      <td>4</td>\n",
       "      <td>Adria Airways</td>\n",
       "      <td>1</td>\n",
       "      <td>\"it ruined our last days of holidays\"</td>\n",
       "      <td>24th September 2019</td>\n",
       "      <td>True</td>\n",
       "      <td>Do not book a flight with this airline! My fr...</td>\n",
       "      <td>NaN</td>\n",
       "      <td>Couple Leisure</td>\n",
       "      <td>Economy Class</td>\n",
       "      <td>Sofia to Amsterdam via Ljubljana</td>\n",
       "      <td>September 2019</td>\n",
       "      <td>1.0</td>\n",
       "      <td>1.0</td>\n",
       "      <td>1.0</td>\n",
       "      <td>1.0</td>\n",
       "      <td>1.0</td>\n",
       "      <td>1.0</td>\n",
       "      <td>1.0</td>\n",
       "      <td>no</td>\n",
       "    </tr>\n",
       "  </tbody>\n",
       "</table>\n",
       "</div>"
      ],
      "text/plain": [
       "   Unnamed: 0   Airline Name Overall_Rating  \\\n",
       "0           0    AB Aviation              9   \n",
       "1           1    AB Aviation              1   \n",
       "2           2    AB Aviation              1   \n",
       "3           3  Adria Airways              1   \n",
       "4           4  Adria Airways              1   \n",
       "\n",
       "                            Review_Title          Review Date  Verified  \\\n",
       "0                \"pretty decent airline\"   11th November 2019      True   \n",
       "1                   \"Not a good airline\"       25th June 2019      True   \n",
       "2         \"flight was fortunately short\"       25th June 2019      True   \n",
       "3    \"I will never fly again with Adria\"  28th September 2019     False   \n",
       "4  \"it ruined our last days of holidays\"  24th September 2019      True   \n",
       "\n",
       "                                              Review       Aircraft  \\\n",
       "0    Moroni to Moheli. Turned out to be a pretty ...            NaN   \n",
       "1   Moroni to Anjouan. It is a very small airline...           E120   \n",
       "2    Anjouan to Dzaoudzi. A very small airline an...  Embraer E120    \n",
       "3    Please do a favor yourself and do not fly wi...            NaN   \n",
       "4   Do not book a flight with this airline! My fr...            NaN   \n",
       "\n",
       "  Type Of Traveller      Seat Type                             Route  \\\n",
       "0      Solo Leisure  Economy Class                  Moroni to Moheli   \n",
       "1      Solo Leisure  Economy Class                 Moroni to Anjouan   \n",
       "2      Solo Leisure  Economy Class               Anjouan to Dzaoudzi   \n",
       "3      Solo Leisure  Economy Class             Frankfurt to Pristina   \n",
       "4    Couple Leisure  Economy Class  Sofia to Amsterdam via Ljubljana   \n",
       "\n",
       "       Date Flown  Seat Comfort  Cabin Staff Service  Food & Beverages  \\\n",
       "0   November 2019           4.0                  5.0               4.0   \n",
       "1       June 2019           2.0                  2.0               1.0   \n",
       "2       June 2019           2.0                  1.0               1.0   \n",
       "3  September 2019           1.0                  1.0               NaN   \n",
       "4  September 2019           1.0                  1.0               1.0   \n",
       "\n",
       "   Ground Service  Inflight Entertainment  Wifi & Connectivity  \\\n",
       "0             4.0                     NaN                  NaN   \n",
       "1             1.0                     NaN                  NaN   \n",
       "2             1.0                     NaN                  NaN   \n",
       "3             1.0                     NaN                  NaN   \n",
       "4             1.0                     1.0                  1.0   \n",
       "\n",
       "   Value For Money Recommended  \n",
       "0              3.0         yes  \n",
       "1              2.0          no  \n",
       "2              2.0          no  \n",
       "3              1.0          no  \n",
       "4              1.0          no  "
      ]
     },
     "execution_count": 4,
     "metadata": {},
     "output_type": "execute_result"
    }
   ],
   "source": [
    "df.head()"
   ]
  },
  {
   "cell_type": "code",
   "execution_count": 5,
   "metadata": {},
   "outputs": [],
   "source": [
    "df.drop('Unnamed: 0',axis=1,inplace=True)"
   ]
  },
  {
   "cell_type": "code",
   "execution_count": 6,
   "metadata": {},
   "outputs": [
    {
     "name": "stdout",
     "output_type": "stream",
     "text": [
      "<class 'pandas.core.frame.DataFrame'>\n",
      "RangeIndex: 23171 entries, 0 to 23170\n",
      "Data columns (total 19 columns):\n",
      " #   Column                  Non-Null Count  Dtype  \n",
      "---  ------                  --------------  -----  \n",
      " 0   Airline Name            23171 non-null  object \n",
      " 1   Overall_Rating          23171 non-null  object \n",
      " 2   Review_Title            23171 non-null  object \n",
      " 3   Review Date             23171 non-null  object \n",
      " 4   Verified                23171 non-null  bool   \n",
      " 5   Review                  23171 non-null  object \n",
      " 6   Aircraft                7129 non-null   object \n",
      " 7   Type Of Traveller       19433 non-null  object \n",
      " 8   Seat Type               22075 non-null  object \n",
      " 9   Route                   19343 non-null  object \n",
      " 10  Date Flown              19417 non-null  object \n",
      " 11  Seat Comfort            19016 non-null  float64\n",
      " 12  Cabin Staff Service     18911 non-null  float64\n",
      " 13  Food & Beverages        14500 non-null  float64\n",
      " 14  Ground Service          18378 non-null  float64\n",
      " 15  Inflight Entertainment  10829 non-null  float64\n",
      " 16  Wifi & Connectivity     5920 non-null   float64\n",
      " 17  Value For Money         22105 non-null  float64\n",
      " 18  Recommended             23171 non-null  object \n",
      "dtypes: bool(1), float64(7), object(11)\n",
      "memory usage: 3.2+ MB\n"
     ]
    }
   ],
   "source": [
    "df.info()"
   ]
  },
  {
   "cell_type": "code",
   "execution_count": 7,
   "metadata": {},
   "outputs": [
    {
     "data": {
      "text/plain": [
       "False    23051\n",
       "True       120\n",
       "Name: count, dtype: int64"
      ]
     },
     "execution_count": 7,
     "metadata": {},
     "output_type": "execute_result"
    }
   ],
   "source": [
    "df.duplicated().value_counts()"
   ]
  },
  {
   "cell_type": "code",
   "execution_count": 8,
   "metadata": {},
   "outputs": [
    {
     "data": {
      "text/html": [
       "<div>\n",
       "<style scoped>\n",
       "    .dataframe tbody tr th:only-of-type {\n",
       "        vertical-align: middle;\n",
       "    }\n",
       "\n",
       "    .dataframe tbody tr th {\n",
       "        vertical-align: top;\n",
       "    }\n",
       "\n",
       "    .dataframe thead th {\n",
       "        text-align: right;\n",
       "    }\n",
       "</style>\n",
       "<table border=\"1\" class=\"dataframe\">\n",
       "  <thead>\n",
       "    <tr style=\"text-align: right;\">\n",
       "      <th></th>\n",
       "      <th>Airline Name</th>\n",
       "      <th>Overall_Rating</th>\n",
       "      <th>Review_Title</th>\n",
       "      <th>Review Date</th>\n",
       "      <th>Verified</th>\n",
       "      <th>Review</th>\n",
       "      <th>Aircraft</th>\n",
       "      <th>Type Of Traveller</th>\n",
       "      <th>Seat Type</th>\n",
       "      <th>Route</th>\n",
       "      <th>Date Flown</th>\n",
       "      <th>Seat Comfort</th>\n",
       "      <th>Cabin Staff Service</th>\n",
       "      <th>Food &amp; Beverages</th>\n",
       "      <th>Ground Service</th>\n",
       "      <th>Inflight Entertainment</th>\n",
       "      <th>Wifi &amp; Connectivity</th>\n",
       "      <th>Value For Money</th>\n",
       "      <th>Recommended</th>\n",
       "    </tr>\n",
       "  </thead>\n",
       "  <tbody>\n",
       "    <tr>\n",
       "      <th>0</th>\n",
       "      <td>AB Aviation</td>\n",
       "      <td>9</td>\n",
       "      <td>\"pretty decent airline\"</td>\n",
       "      <td>11th November 2019</td>\n",
       "      <td>True</td>\n",
       "      <td>Moroni to Moheli. Turned out to be a pretty ...</td>\n",
       "      <td>NaN</td>\n",
       "      <td>Solo Leisure</td>\n",
       "      <td>Economy Class</td>\n",
       "      <td>Moroni to Moheli</td>\n",
       "      <td>November 2019</td>\n",
       "      <td>4.0</td>\n",
       "      <td>5.0</td>\n",
       "      <td>4.0</td>\n",
       "      <td>4.0</td>\n",
       "      <td>NaN</td>\n",
       "      <td>NaN</td>\n",
       "      <td>3.0</td>\n",
       "      <td>yes</td>\n",
       "    </tr>\n",
       "    <tr>\n",
       "      <th>1</th>\n",
       "      <td>AB Aviation</td>\n",
       "      <td>1</td>\n",
       "      <td>\"Not a good airline\"</td>\n",
       "      <td>25th June 2019</td>\n",
       "      <td>True</td>\n",
       "      <td>Moroni to Anjouan. It is a very small airline...</td>\n",
       "      <td>E120</td>\n",
       "      <td>Solo Leisure</td>\n",
       "      <td>Economy Class</td>\n",
       "      <td>Moroni to Anjouan</td>\n",
       "      <td>June 2019</td>\n",
       "      <td>2.0</td>\n",
       "      <td>2.0</td>\n",
       "      <td>1.0</td>\n",
       "      <td>1.0</td>\n",
       "      <td>NaN</td>\n",
       "      <td>NaN</td>\n",
       "      <td>2.0</td>\n",
       "      <td>no</td>\n",
       "    </tr>\n",
       "    <tr>\n",
       "      <th>2</th>\n",
       "      <td>AB Aviation</td>\n",
       "      <td>1</td>\n",
       "      <td>\"flight was fortunately short\"</td>\n",
       "      <td>25th June 2019</td>\n",
       "      <td>True</td>\n",
       "      <td>Anjouan to Dzaoudzi. A very small airline an...</td>\n",
       "      <td>Embraer E120</td>\n",
       "      <td>Solo Leisure</td>\n",
       "      <td>Economy Class</td>\n",
       "      <td>Anjouan to Dzaoudzi</td>\n",
       "      <td>June 2019</td>\n",
       "      <td>2.0</td>\n",
       "      <td>1.0</td>\n",
       "      <td>1.0</td>\n",
       "      <td>1.0</td>\n",
       "      <td>NaN</td>\n",
       "      <td>NaN</td>\n",
       "      <td>2.0</td>\n",
       "      <td>no</td>\n",
       "    </tr>\n",
       "    <tr>\n",
       "      <th>3</th>\n",
       "      <td>Adria Airways</td>\n",
       "      <td>1</td>\n",
       "      <td>\"I will never fly again with Adria\"</td>\n",
       "      <td>28th September 2019</td>\n",
       "      <td>False</td>\n",
       "      <td>Please do a favor yourself and do not fly wi...</td>\n",
       "      <td>NaN</td>\n",
       "      <td>Solo Leisure</td>\n",
       "      <td>Economy Class</td>\n",
       "      <td>Frankfurt to Pristina</td>\n",
       "      <td>September 2019</td>\n",
       "      <td>1.0</td>\n",
       "      <td>1.0</td>\n",
       "      <td>NaN</td>\n",
       "      <td>1.0</td>\n",
       "      <td>NaN</td>\n",
       "      <td>NaN</td>\n",
       "      <td>1.0</td>\n",
       "      <td>no</td>\n",
       "    </tr>\n",
       "    <tr>\n",
       "      <th>4</th>\n",
       "      <td>Adria Airways</td>\n",
       "      <td>1</td>\n",
       "      <td>\"it ruined our last days of holidays\"</td>\n",
       "      <td>24th September 2019</td>\n",
       "      <td>True</td>\n",
       "      <td>Do not book a flight with this airline! My fr...</td>\n",
       "      <td>NaN</td>\n",
       "      <td>Couple Leisure</td>\n",
       "      <td>Economy Class</td>\n",
       "      <td>Sofia to Amsterdam via Ljubljana</td>\n",
       "      <td>September 2019</td>\n",
       "      <td>1.0</td>\n",
       "      <td>1.0</td>\n",
       "      <td>1.0</td>\n",
       "      <td>1.0</td>\n",
       "      <td>1.0</td>\n",
       "      <td>1.0</td>\n",
       "      <td>1.0</td>\n",
       "      <td>no</td>\n",
       "    </tr>\n",
       "    <tr>\n",
       "      <th>...</th>\n",
       "      <td>...</td>\n",
       "      <td>...</td>\n",
       "      <td>...</td>\n",
       "      <td>...</td>\n",
       "      <td>...</td>\n",
       "      <td>...</td>\n",
       "      <td>...</td>\n",
       "      <td>...</td>\n",
       "      <td>...</td>\n",
       "      <td>...</td>\n",
       "      <td>...</td>\n",
       "      <td>...</td>\n",
       "      <td>...</td>\n",
       "      <td>...</td>\n",
       "      <td>...</td>\n",
       "      <td>...</td>\n",
       "      <td>...</td>\n",
       "      <td>...</td>\n",
       "      <td>...</td>\n",
       "    </tr>\n",
       "    <tr>\n",
       "      <th>23166</th>\n",
       "      <td>ZIPAIR</td>\n",
       "      <td>1</td>\n",
       "      <td>\"customer service is terrible\"</td>\n",
       "      <td>5th July 2022</td>\n",
       "      <td>False</td>\n",
       "      <td>Bangkok to Tokyo. I’ve flown many low cost ai...</td>\n",
       "      <td>NaN</td>\n",
       "      <td>Couple Leisure</td>\n",
       "      <td>Economy Class</td>\n",
       "      <td>Bangkok to Tokyo</td>\n",
       "      <td>June 2022</td>\n",
       "      <td>2.0</td>\n",
       "      <td>1.0</td>\n",
       "      <td>NaN</td>\n",
       "      <td>1.0</td>\n",
       "      <td>1.0</td>\n",
       "      <td>1.0</td>\n",
       "      <td>1.0</td>\n",
       "      <td>no</td>\n",
       "    </tr>\n",
       "    <tr>\n",
       "      <th>23167</th>\n",
       "      <td>ZIPAIR</td>\n",
       "      <td>1</td>\n",
       "      <td>\"Avoid at all costs\"</td>\n",
       "      <td>1st June 2022</td>\n",
       "      <td>True</td>\n",
       "      <td>Avoid at all costs. I booked flights to go f...</td>\n",
       "      <td>NaN</td>\n",
       "      <td>Solo Leisure</td>\n",
       "      <td>Economy Class</td>\n",
       "      <td>Singapore to Tokyo</td>\n",
       "      <td>June 2022</td>\n",
       "      <td>NaN</td>\n",
       "      <td>NaN</td>\n",
       "      <td>NaN</td>\n",
       "      <td>NaN</td>\n",
       "      <td>NaN</td>\n",
       "      <td>NaN</td>\n",
       "      <td>1.0</td>\n",
       "      <td>no</td>\n",
       "    </tr>\n",
       "    <tr>\n",
       "      <th>23168</th>\n",
       "      <td>ZIPAIR</td>\n",
       "      <td>3</td>\n",
       "      <td>\"Will not recommend to anyone\"</td>\n",
       "      <td>31st May 2022</td>\n",
       "      <td>True</td>\n",
       "      <td>Flight was leaving at 23.15 and after an hou...</td>\n",
       "      <td>NaN</td>\n",
       "      <td>Business</td>\n",
       "      <td>Economy Class</td>\n",
       "      <td>Bangkok to Tokyo</td>\n",
       "      <td>May 2022</td>\n",
       "      <td>2.0</td>\n",
       "      <td>4.0</td>\n",
       "      <td>2.0</td>\n",
       "      <td>1.0</td>\n",
       "      <td>NaN</td>\n",
       "      <td>NaN</td>\n",
       "      <td>2.0</td>\n",
       "      <td>no</td>\n",
       "    </tr>\n",
       "    <tr>\n",
       "      <th>23169</th>\n",
       "      <td>ZIPAIR</td>\n",
       "      <td>6</td>\n",
       "      <td>\"It was immaculately clean\"</td>\n",
       "      <td>23rd May 2022</td>\n",
       "      <td>True</td>\n",
       "      <td>Zipair is JAL’s budget airline. They don’t ha...</td>\n",
       "      <td>Dreamliner</td>\n",
       "      <td>Business</td>\n",
       "      <td>Business Class</td>\n",
       "      <td>Tokyo to Los Angeles</td>\n",
       "      <td>May 2022</td>\n",
       "      <td>3.0</td>\n",
       "      <td>4.0</td>\n",
       "      <td>3.0</td>\n",
       "      <td>1.0</td>\n",
       "      <td>2.0</td>\n",
       "      <td>5.0</td>\n",
       "      <td>5.0</td>\n",
       "      <td>yes</td>\n",
       "    </tr>\n",
       "    <tr>\n",
       "      <th>23170</th>\n",
       "      <td>ZIPAIR</td>\n",
       "      <td>1</td>\n",
       "      <td>\"lost all of our money with no refund\"</td>\n",
       "      <td>20th May 2022</td>\n",
       "      <td>True</td>\n",
       "      <td>They lied about connection in Narita and we ...</td>\n",
       "      <td>NaN</td>\n",
       "      <td>Solo Leisure</td>\n",
       "      <td>Economy Class</td>\n",
       "      <td>Singapore to Tokyo</td>\n",
       "      <td>May 2022</td>\n",
       "      <td>NaN</td>\n",
       "      <td>NaN</td>\n",
       "      <td>NaN</td>\n",
       "      <td>1.0</td>\n",
       "      <td>NaN</td>\n",
       "      <td>NaN</td>\n",
       "      <td>1.0</td>\n",
       "      <td>no</td>\n",
       "    </tr>\n",
       "  </tbody>\n",
       "</table>\n",
       "<p>23051 rows × 19 columns</p>\n",
       "</div>"
      ],
      "text/plain": [
       "        Airline Name Overall_Rating                            Review_Title  \\\n",
       "0        AB Aviation              9                 \"pretty decent airline\"   \n",
       "1        AB Aviation              1                    \"Not a good airline\"   \n",
       "2        AB Aviation              1          \"flight was fortunately short\"   \n",
       "3      Adria Airways              1     \"I will never fly again with Adria\"   \n",
       "4      Adria Airways              1   \"it ruined our last days of holidays\"   \n",
       "...              ...            ...                                     ...   \n",
       "23166         ZIPAIR              1          \"customer service is terrible\"   \n",
       "23167         ZIPAIR              1                    \"Avoid at all costs\"   \n",
       "23168         ZIPAIR              3          \"Will not recommend to anyone\"   \n",
       "23169         ZIPAIR              6             \"It was immaculately clean\"   \n",
       "23170         ZIPAIR              1  \"lost all of our money with no refund\"   \n",
       "\n",
       "               Review Date  Verified  \\\n",
       "0       11th November 2019      True   \n",
       "1           25th June 2019      True   \n",
       "2           25th June 2019      True   \n",
       "3      28th September 2019     False   \n",
       "4      24th September 2019      True   \n",
       "...                    ...       ...   \n",
       "23166        5th July 2022     False   \n",
       "23167        1st June 2022      True   \n",
       "23168        31st May 2022      True   \n",
       "23169        23rd May 2022      True   \n",
       "23170        20th May 2022      True   \n",
       "\n",
       "                                                  Review       Aircraft  \\\n",
       "0        Moroni to Moheli. Turned out to be a pretty ...            NaN   \n",
       "1       Moroni to Anjouan. It is a very small airline...           E120   \n",
       "2        Anjouan to Dzaoudzi. A very small airline an...  Embraer E120    \n",
       "3        Please do a favor yourself and do not fly wi...            NaN   \n",
       "4       Do not book a flight with this airline! My fr...            NaN   \n",
       "...                                                  ...            ...   \n",
       "23166   Bangkok to Tokyo. I’ve flown many low cost ai...            NaN   \n",
       "23167    Avoid at all costs. I booked flights to go f...            NaN   \n",
       "23168    Flight was leaving at 23.15 and after an hou...            NaN   \n",
       "23169   Zipair is JAL’s budget airline. They don’t ha...     Dreamliner   \n",
       "23170    They lied about connection in Narita and we ...            NaN   \n",
       "\n",
       "      Type Of Traveller       Seat Type                             Route  \\\n",
       "0          Solo Leisure   Economy Class                  Moroni to Moheli   \n",
       "1          Solo Leisure   Economy Class                 Moroni to Anjouan   \n",
       "2          Solo Leisure   Economy Class               Anjouan to Dzaoudzi   \n",
       "3          Solo Leisure   Economy Class             Frankfurt to Pristina   \n",
       "4        Couple Leisure   Economy Class  Sofia to Amsterdam via Ljubljana   \n",
       "...                 ...             ...                               ...   \n",
       "23166    Couple Leisure   Economy Class                  Bangkok to Tokyo   \n",
       "23167      Solo Leisure   Economy Class                Singapore to Tokyo   \n",
       "23168          Business   Economy Class                  Bangkok to Tokyo   \n",
       "23169          Business  Business Class              Tokyo to Los Angeles   \n",
       "23170      Solo Leisure   Economy Class                Singapore to Tokyo   \n",
       "\n",
       "           Date Flown  Seat Comfort  Cabin Staff Service  Food & Beverages  \\\n",
       "0       November 2019           4.0                  5.0               4.0   \n",
       "1           June 2019           2.0                  2.0               1.0   \n",
       "2           June 2019           2.0                  1.0               1.0   \n",
       "3      September 2019           1.0                  1.0               NaN   \n",
       "4      September 2019           1.0                  1.0               1.0   \n",
       "...               ...           ...                  ...               ...   \n",
       "23166       June 2022           2.0                  1.0               NaN   \n",
       "23167       June 2022           NaN                  NaN               NaN   \n",
       "23168        May 2022           2.0                  4.0               2.0   \n",
       "23169        May 2022           3.0                  4.0               3.0   \n",
       "23170        May 2022           NaN                  NaN               NaN   \n",
       "\n",
       "       Ground Service  Inflight Entertainment  Wifi & Connectivity  \\\n",
       "0                 4.0                     NaN                  NaN   \n",
       "1                 1.0                     NaN                  NaN   \n",
       "2                 1.0                     NaN                  NaN   \n",
       "3                 1.0                     NaN                  NaN   \n",
       "4                 1.0                     1.0                  1.0   \n",
       "...               ...                     ...                  ...   \n",
       "23166             1.0                     1.0                  1.0   \n",
       "23167             NaN                     NaN                  NaN   \n",
       "23168             1.0                     NaN                  NaN   \n",
       "23169             1.0                     2.0                  5.0   \n",
       "23170             1.0                     NaN                  NaN   \n",
       "\n",
       "       Value For Money Recommended  \n",
       "0                  3.0         yes  \n",
       "1                  2.0          no  \n",
       "2                  2.0          no  \n",
       "3                  1.0          no  \n",
       "4                  1.0          no  \n",
       "...                ...         ...  \n",
       "23166              1.0          no  \n",
       "23167              1.0          no  \n",
       "23168              2.0          no  \n",
       "23169              5.0         yes  \n",
       "23170              1.0          no  \n",
       "\n",
       "[23051 rows x 19 columns]"
      ]
     },
     "execution_count": 8,
     "metadata": {},
     "output_type": "execute_result"
    }
   ],
   "source": [
    "df.drop_duplicates()"
   ]
  },
  {
   "cell_type": "code",
   "execution_count": 9,
   "metadata": {},
   "outputs": [
    {
     "data": {
      "text/plain": [
       "Airline Name                  0\n",
       "Overall_Rating                0\n",
       "Review_Title                  0\n",
       "Review Date                   0\n",
       "Verified                      0\n",
       "Review                        0\n",
       "Aircraft                  16042\n",
       "Type Of Traveller          3738\n",
       "Seat Type                  1096\n",
       "Route                      3828\n",
       "Date Flown                 3754\n",
       "Seat Comfort               4155\n",
       "Cabin Staff Service        4260\n",
       "Food & Beverages           8671\n",
       "Ground Service             4793\n",
       "Inflight Entertainment    12342\n",
       "Wifi & Connectivity       17251\n",
       "Value For Money            1066\n",
       "Recommended                   0\n",
       "dtype: int64"
      ]
     },
     "execution_count": 9,
     "metadata": {},
     "output_type": "execute_result"
    }
   ],
   "source": [
    "df.isnull().sum()"
   ]
  },
  {
   "cell_type": "code",
   "execution_count": 10,
   "metadata": {},
   "outputs": [
    {
     "data": {
      "text/plain": [
       "Aircraft\n",
       "A320                         1041\n",
       "Boeing 737-800                553\n",
       "Boeing 737                    404\n",
       "A330                          349\n",
       "Boeing 787                    349\n",
       "                             ... \n",
       "Airbus 330-300                  1\n",
       "A350-900 / Boeing 777-300       1\n",
       "A350-900 / Boeing 747-400       1\n",
       "Boeing 777/350                  1\n",
       "Boeing787                       1\n",
       "Name: count, Length: 1048, dtype: int64"
      ]
     },
     "execution_count": 10,
     "metadata": {},
     "output_type": "execute_result"
    }
   ],
   "source": [
    "df['Aircraft'].value_counts()"
   ]
  },
  {
   "cell_type": "code",
   "execution_count": null,
   "metadata": {},
   "outputs": [],
   "source": []
  },
  {
   "cell_type": "code",
   "execution_count": 11,
   "metadata": {},
   "outputs": [
    {
     "data": {
      "text/plain": [
       "Airline Name\n",
       "Caribbean Airlines           100\n",
       "GoAir                        100\n",
       "Germanwings                  100\n",
       "Philippine Airlines          100\n",
       "Bangkok Airways              100\n",
       "                            ... \n",
       "JC International Airlines      1\n",
       "MEGA Maldives Airlines         1\n",
       "MAYAir                         1\n",
       "Tibet Airlines                 1\n",
       "Dimonim Air                    1\n",
       "Name: count, Length: 497, dtype: int64"
      ]
     },
     "execution_count": 11,
     "metadata": {},
     "output_type": "execute_result"
    }
   ],
   "source": [
    "df['Airline Name'].value_counts()"
   ]
  },
  {
   "cell_type": "code",
   "execution_count": 12,
   "metadata": {},
   "outputs": [
    {
     "data": {
      "text/plain": [
       "Index(['Airline Name', 'Overall_Rating', 'Review_Title', 'Review Date',\n",
       "       'Verified', 'Review', 'Aircraft', 'Type Of Traveller', 'Seat Type',\n",
       "       'Route', 'Date Flown', 'Seat Comfort', 'Cabin Staff Service',\n",
       "       'Food & Beverages', 'Ground Service', 'Inflight Entertainment',\n",
       "       'Wifi & Connectivity', 'Value For Money', 'Recommended'],\n",
       "      dtype='object')"
      ]
     },
     "execution_count": 12,
     "metadata": {},
     "output_type": "execute_result"
    }
   ],
   "source": [
    "df.columns"
   ]
  },
  {
   "cell_type": "code",
   "execution_count": 13,
   "metadata": {},
   "outputs": [
    {
     "data": {
      "text/plain": [
       "Recommended\n",
       "no     15364\n",
       "yes     7807\n",
       "Name: count, dtype: int64"
      ]
     },
     "execution_count": 13,
     "metadata": {},
     "output_type": "execute_result"
    }
   ],
   "source": [
    "df['Recommended'].value_counts()"
   ]
  },
  {
   "cell_type": "markdown",
   "metadata": {},
   "source": [
    "### HANDLING MISSING VALUES"
   ]
  },
  {
   "cell_type": "markdown",
   "metadata": {},
   "source": [
    "#### Overall_Rating"
   ]
  },
  {
   "cell_type": "code",
   "execution_count": 14,
   "metadata": {},
   "outputs": [
    {
     "data": {
      "text/plain": [
       "Overall_Rating\n",
       "1    11595\n",
       "2     2296\n",
       "9     1768\n",
       "8     1757\n",
       "3     1356\n",
       "7     1193\n",
       "4      859\n",
       "n      842\n",
       "5      830\n",
       "6      675\n",
       "Name: count, dtype: int64"
      ]
     },
     "execution_count": 14,
     "metadata": {},
     "output_type": "execute_result"
    }
   ],
   "source": [
    "df['Overall_Rating'].value_counts()"
   ]
  },
  {
   "cell_type": "code",
   "execution_count": 15,
   "metadata": {},
   "outputs": [],
   "source": [
    "df['Overall_Rating']=df['Overall_Rating'].replace('n',10)"
   ]
  },
  {
   "cell_type": "code",
   "execution_count": 16,
   "metadata": {},
   "outputs": [
    {
     "data": {
      "text/plain": [
       "Overall_Rating\n",
       "1     11595\n",
       "2      2296\n",
       "9      1768\n",
       "8      1757\n",
       "3      1356\n",
       "7      1193\n",
       "4       859\n",
       "10      842\n",
       "5       830\n",
       "6       675\n",
       "Name: count, dtype: int64"
      ]
     },
     "execution_count": 16,
     "metadata": {},
     "output_type": "execute_result"
    }
   ],
   "source": [
    "df['Overall_Rating'].value_counts()"
   ]
  },
  {
   "cell_type": "code",
   "execution_count": 17,
   "metadata": {},
   "outputs": [],
   "source": [
    "df['Overall_Rating']=df['Overall_Rating'].astype(int)"
   ]
  },
  {
   "cell_type": "code",
   "execution_count": 18,
   "metadata": {},
   "outputs": [
    {
     "data": {
      "text/plain": [
       "0"
      ]
     },
     "execution_count": 18,
     "metadata": {},
     "output_type": "execute_result"
    }
   ],
   "source": [
    "df['Overall_Rating'].isnull().sum()"
   ]
  },
  {
   "cell_type": "markdown",
   "metadata": {},
   "source": [
    "#### Type Of Traveller       "
   ]
  },
  {
   "cell_type": "code",
   "execution_count": 19,
   "metadata": {},
   "outputs": [
    {
     "data": {
      "text/plain": [
       "Type Of Traveller\n",
       "Solo Leisure      7120\n",
       "Couple Leisure    5265\n",
       "Family Leisure    4352\n",
       "Business          2696\n",
       "Name: count, dtype: int64"
      ]
     },
     "execution_count": 19,
     "metadata": {},
     "output_type": "execute_result"
    }
   ],
   "source": [
    "df['Type Of Traveller'].value_counts()"
   ]
  },
  {
   "cell_type": "code",
   "execution_count": 20,
   "metadata": {},
   "outputs": [],
   "source": [
    "# Forward-fill (fill missing values with the previous valid value)\n",
    "df['Type Of Traveller'] = df['Type Of Traveller'].fillna(method='ffill')"
   ]
  },
  {
   "cell_type": "code",
   "execution_count": 21,
   "metadata": {},
   "outputs": [
    {
     "data": {
      "text/plain": [
       "0"
      ]
     },
     "execution_count": 21,
     "metadata": {},
     "output_type": "execute_result"
    }
   ],
   "source": [
    "df['Type Of Traveller'].isnull().sum()"
   ]
  },
  {
   "cell_type": "code",
   "execution_count": 22,
   "metadata": {},
   "outputs": [
    {
     "data": {
      "text/plain": [
       "Type Of Traveller\n",
       "Solo Leisure      8386\n",
       "Couple Leisure    6290\n",
       "Family Leisure    5148\n",
       "Business          3347\n",
       "Name: count, dtype: int64"
      ]
     },
     "execution_count": 22,
     "metadata": {},
     "output_type": "execute_result"
    }
   ],
   "source": [
    "df['Type Of Traveller'].value_counts()"
   ]
  },
  {
   "cell_type": "markdown",
   "metadata": {},
   "source": [
    "#### Seat Type"
   ]
  },
  {
   "cell_type": "code",
   "execution_count": 23,
   "metadata": {},
   "outputs": [
    {
     "data": {
      "text/plain": [
       "Seat Type\n",
       "Economy Class      19145\n",
       "Business Class      2098\n",
       "Premium Economy      646\n",
       "First Class          186\n",
       "Name: count, dtype: int64"
      ]
     },
     "execution_count": 23,
     "metadata": {},
     "output_type": "execute_result"
    }
   ],
   "source": [
    "df['Seat Type'].value_counts()"
   ]
  },
  {
   "cell_type": "code",
   "execution_count": 24,
   "metadata": {},
   "outputs": [],
   "source": [
    "# Forward-fill (fill missing values with the previous valid value)\n",
    "df['Seat Type'] = df['Seat Type'].fillna(method='ffill')"
   ]
  },
  {
   "cell_type": "code",
   "execution_count": 25,
   "metadata": {},
   "outputs": [
    {
     "data": {
      "text/plain": [
       "0"
      ]
     },
     "execution_count": 25,
     "metadata": {},
     "output_type": "execute_result"
    }
   ],
   "source": [
    "df['Seat Type'].isnull().sum()"
   ]
  },
  {
   "cell_type": "code",
   "execution_count": 26,
   "metadata": {},
   "outputs": [
    {
     "data": {
      "text/plain": [
       "Seat Type\n",
       "Economy Class      20089\n",
       "Business Class      2239\n",
       "Premium Economy      649\n",
       "First Class          194\n",
       "Name: count, dtype: int64"
      ]
     },
     "execution_count": 26,
     "metadata": {},
     "output_type": "execute_result"
    }
   ],
   "source": [
    "df['Seat Type'].value_counts()"
   ]
  },
  {
   "cell_type": "markdown",
   "metadata": {},
   "source": [
    "#### Seat Comfort"
   ]
  },
  {
   "cell_type": "code",
   "execution_count": 27,
   "metadata": {},
   "outputs": [
    {
     "data": {
      "text/plain": [
       "Seat Comfort\n",
       "1.0    6337\n",
       "3.0    3618\n",
       "4.0    3378\n",
       "2.0    2869\n",
       "5.0    2670\n",
       "0.0     144\n",
       "Name: count, dtype: int64"
      ]
     },
     "execution_count": 27,
     "metadata": {},
     "output_type": "execute_result"
    }
   ],
   "source": [
    "df['Seat Comfort'].value_counts()"
   ]
  },
  {
   "cell_type": "code",
   "execution_count": 28,
   "metadata": {},
   "outputs": [],
   "source": [
    "from sklearn.impute import KNNImputer\n",
    "imputer = KNNImputer(n_neighbors=5)\n",
    "# Extract the column to be imputed as a 2D array\n",
    "data = df[['Seat Comfort']].values.reshape(-1, 1)\n",
    "# Perform KNN imputation\n",
    "imputed_values = imputer.fit_transform(data)   \n",
    "# Update the original DataFrame with the imputed values\n",
    "\n"
   ]
  },
  {
   "cell_type": "code",
   "execution_count": 29,
   "metadata": {},
   "outputs": [],
   "source": [
    "# Round the imputed values to the nearest integers\n",
    "imputed_data_rounded = np.round(imputed_values)"
   ]
  },
  {
   "cell_type": "code",
   "execution_count": 30,
   "metadata": {},
   "outputs": [],
   "source": [
    "df['Seat Comfort']=imputed_data_rounded\n"
   ]
  },
  {
   "cell_type": "code",
   "execution_count": 31,
   "metadata": {},
   "outputs": [
    {
     "data": {
      "text/plain": [
       "0"
      ]
     },
     "execution_count": 31,
     "metadata": {},
     "output_type": "execute_result"
    }
   ],
   "source": [
    "df['Seat Comfort'].isnull().sum()"
   ]
  },
  {
   "cell_type": "code",
   "execution_count": 32,
   "metadata": {},
   "outputs": [
    {
     "data": {
      "text/plain": [
       "Seat Comfort\n",
       "3.0    7773\n",
       "1.0    6337\n",
       "4.0    3378\n",
       "2.0    2869\n",
       "5.0    2670\n",
       "0.0     144\n",
       "Name: count, dtype: int64"
      ]
     },
     "execution_count": 32,
     "metadata": {},
     "output_type": "execute_result"
    }
   ],
   "source": [
    "df['Seat Comfort'].value_counts()"
   ]
  },
  {
   "cell_type": "markdown",
   "metadata": {},
   "source": [
    "#### Cabin Staff Service"
   ]
  },
  {
   "cell_type": "code",
   "execution_count": 33,
   "metadata": {},
   "outputs": [
    {
     "data": {
      "text/plain": [
       "Cabin Staff Service\n",
       "1.0    5971\n",
       "5.0    4662\n",
       "4.0    2940\n",
       "3.0    2848\n",
       "2.0    2360\n",
       "0.0     130\n",
       "Name: count, dtype: int64"
      ]
     },
     "execution_count": 33,
     "metadata": {},
     "output_type": "execute_result"
    }
   ],
   "source": [
    "df['Cabin Staff Service'].value_counts()"
   ]
  },
  {
   "cell_type": "code",
   "execution_count": 34,
   "metadata": {},
   "outputs": [],
   "source": [
    "from sklearn.impute import KNNImputer\n",
    "imputer = KNNImputer(n_neighbors=5)\n",
    "# Extract the column to be imputed as a 2D array\n",
    "data = df[['Cabin Staff Service']].values.reshape(-1, 1)\n",
    "# Perform KNN imputation\n",
    "imputed_values = imputer.fit_transform(data)   \n",
    "# Round the imputed values to the nearest integers\n",
    "imputed_data_rounded = np.round(imputed_values)"
   ]
  },
  {
   "cell_type": "code",
   "execution_count": 35,
   "metadata": {},
   "outputs": [],
   "source": [
    "df['Cabin Staff Service']=imputed_data_rounded"
   ]
  },
  {
   "cell_type": "code",
   "execution_count": 36,
   "metadata": {},
   "outputs": [
    {
     "data": {
      "text/plain": [
       "0"
      ]
     },
     "execution_count": 36,
     "metadata": {},
     "output_type": "execute_result"
    }
   ],
   "source": [
    "df['Cabin Staff Service'].isnull().sum()"
   ]
  },
  {
   "cell_type": "code",
   "execution_count": 37,
   "metadata": {},
   "outputs": [
    {
     "data": {
      "text/plain": [
       "Cabin Staff Service\n",
       "3.0    7108\n",
       "1.0    5971\n",
       "5.0    4662\n",
       "4.0    2940\n",
       "2.0    2360\n",
       "0.0     130\n",
       "Name: count, dtype: int64"
      ]
     },
     "execution_count": 37,
     "metadata": {},
     "output_type": "execute_result"
    }
   ],
   "source": [
    "df['Cabin Staff Service'].value_counts()"
   ]
  },
  {
   "cell_type": "markdown",
   "metadata": {},
   "source": [
    "#### Ground Service"
   ]
  },
  {
   "cell_type": "code",
   "execution_count": 38,
   "metadata": {},
   "outputs": [
    {
     "data": {
      "text/plain": [
       "Ground Service\n",
       "1.0    9473\n",
       "5.0    3159\n",
       "4.0    2347\n",
       "3.0    1803\n",
       "2.0    1596\n",
       "Name: count, dtype: int64"
      ]
     },
     "execution_count": 38,
     "metadata": {},
     "output_type": "execute_result"
    }
   ],
   "source": [
    "df['Ground Service'].value_counts()"
   ]
  },
  {
   "cell_type": "code",
   "execution_count": 39,
   "metadata": {},
   "outputs": [],
   "source": [
    "from sklearn.impute import KNNImputer\n",
    "imputer = KNNImputer(n_neighbors=5)\n",
    "# Extract the column to be imputed as a 2D array\n",
    "data = df[['Ground Service']].values.reshape(-1, 1)\n",
    "# Perform KNN imputation\n",
    "imputed_values = imputer.fit_transform(data)   \n",
    "# Round the imputed values to the nearest integers\n",
    "imputed_data_rounded = np.round(imputed_values)"
   ]
  },
  {
   "cell_type": "code",
   "execution_count": 40,
   "metadata": {},
   "outputs": [],
   "source": [
    "df['Ground Service']=imputed_data_rounded"
   ]
  },
  {
   "cell_type": "code",
   "execution_count": 41,
   "metadata": {},
   "outputs": [
    {
     "data": {
      "text/plain": [
       "Ground Service\n",
       "1.0    9473\n",
       "2.0    6389\n",
       "5.0    3159\n",
       "4.0    2347\n",
       "3.0    1803\n",
       "Name: count, dtype: int64"
      ]
     },
     "execution_count": 41,
     "metadata": {},
     "output_type": "execute_result"
    }
   ],
   "source": [
    "df['Ground Service'].value_counts()"
   ]
  },
  {
   "cell_type": "markdown",
   "metadata": {},
   "source": [
    "#### Food & Beverages"
   ]
  },
  {
   "cell_type": "code",
   "execution_count": 42,
   "metadata": {},
   "outputs": [
    {
     "data": {
      "text/plain": [
       "Food & Beverages\n",
       "1.0    5283\n",
       "3.0    2424\n",
       "4.0    2332\n",
       "5.0    2242\n",
       "2.0    1967\n",
       "0.0     252\n",
       "Name: count, dtype: int64"
      ]
     },
     "execution_count": 42,
     "metadata": {},
     "output_type": "execute_result"
    }
   ],
   "source": [
    "df['Food & Beverages'].value_counts()"
   ]
  },
  {
   "cell_type": "code",
   "execution_count": 43,
   "metadata": {},
   "outputs": [],
   "source": [
    "from sklearn.impute import KNNImputer\n",
    "imputer = KNNImputer(n_neighbors=5)\n",
    "# Extract the column to be imputed as a 2D array\n",
    "data = df[['Food & Beverages']].values.reshape(-1, 1)\n",
    "# Perform KNN imputation\n",
    "imputed_values = imputer.fit_transform(data)   \n",
    "# Round the imputed values to the nearest integers\n",
    "imputed_data_rounded = np.round(imputed_values)"
   ]
  },
  {
   "cell_type": "code",
   "execution_count": 44,
   "metadata": {},
   "outputs": [],
   "source": [
    "df['Food & Beverages']=imputed_data_rounded"
   ]
  },
  {
   "cell_type": "code",
   "execution_count": 45,
   "metadata": {},
   "outputs": [
    {
     "data": {
      "text/plain": [
       "0"
      ]
     },
     "execution_count": 45,
     "metadata": {},
     "output_type": "execute_result"
    }
   ],
   "source": [
    "df['Food & Beverages'].isnull().sum()"
   ]
  },
  {
   "cell_type": "code",
   "execution_count": 46,
   "metadata": {},
   "outputs": [
    {
     "data": {
      "text/plain": [
       "Food & Beverages\n",
       "3.0    11095\n",
       "1.0     5283\n",
       "4.0     2332\n",
       "5.0     2242\n",
       "2.0     1967\n",
       "0.0      252\n",
       "Name: count, dtype: int64"
      ]
     },
     "execution_count": 46,
     "metadata": {},
     "output_type": "execute_result"
    }
   ],
   "source": [
    "df['Food & Beverages'].value_counts()"
   ]
  },
  {
   "cell_type": "markdown",
   "metadata": {},
   "source": [
    "#### InFlight Entertainment"
   ]
  },
  {
   "cell_type": "code",
   "execution_count": 47,
   "metadata": {},
   "outputs": [
    {
     "data": {
      "text/plain": [
       "Inflight Entertainment\n",
       "1.0    4845\n",
       "3.0    1700\n",
       "4.0    1329\n",
       "2.0    1278\n",
       "5.0    1156\n",
       "0.0     521\n",
       "Name: count, dtype: int64"
      ]
     },
     "execution_count": 47,
     "metadata": {},
     "output_type": "execute_result"
    }
   ],
   "source": [
    "df['Inflight Entertainment'].value_counts()"
   ]
  },
  {
   "cell_type": "code",
   "execution_count": 48,
   "metadata": {},
   "outputs": [],
   "source": [
    "from sklearn.impute import KNNImputer\n",
    "imputer = KNNImputer(n_neighbors=7)\n",
    "# Extract the column to be imputed as a 2D array\n",
    "data = df[['Inflight Entertainment']].values.reshape(-1, 1)\n",
    "# Perform KNN imputation\n",
    "imputed_values = imputer.fit_transform(data)   \n",
    "# Round the imputed values to the nearest integers\n",
    "imputed_data_rounded = np.round(imputed_values)"
   ]
  },
  {
   "cell_type": "code",
   "execution_count": 49,
   "metadata": {},
   "outputs": [],
   "source": [
    "df['Inflight Entertainment']=imputed_data_rounded"
   ]
  },
  {
   "cell_type": "code",
   "execution_count": 50,
   "metadata": {},
   "outputs": [
    {
     "data": {
      "text/plain": [
       "0"
      ]
     },
     "execution_count": 50,
     "metadata": {},
     "output_type": "execute_result"
    }
   ],
   "source": [
    "df['Inflight Entertainment'].isnull().sum()"
   ]
  },
  {
   "cell_type": "code",
   "execution_count": 51,
   "metadata": {},
   "outputs": [
    {
     "data": {
      "text/plain": [
       "Inflight Entertainment\n",
       "2.0    13620\n",
       "1.0     4845\n",
       "3.0     1700\n",
       "4.0     1329\n",
       "5.0     1156\n",
       "0.0      521\n",
       "Name: count, dtype: int64"
      ]
     },
     "execution_count": 51,
     "metadata": {},
     "output_type": "execute_result"
    }
   ],
   "source": [
    "df['Inflight Entertainment'].value_counts()"
   ]
  },
  {
   "cell_type": "markdown",
   "metadata": {},
   "source": [
    "#### Wifi & Connectivity "
   ]
  },
  {
   "cell_type": "code",
   "execution_count": 52,
   "metadata": {},
   "outputs": [
    {
     "data": {
      "text/plain": [
       "Wifi & Connectivity\n",
       "1.0    4061\n",
       "5.0     492\n",
       "3.0     487\n",
       "2.0     479\n",
       "4.0     400\n",
       "0.0       1\n",
       "Name: count, dtype: int64"
      ]
     },
     "execution_count": 52,
     "metadata": {},
     "output_type": "execute_result"
    }
   ],
   "source": [
    "df['Wifi & Connectivity'].value_counts()"
   ]
  },
  {
   "cell_type": "code",
   "execution_count": 53,
   "metadata": {},
   "outputs": [],
   "source": [
    "from sklearn.impute import KNNImputer\n",
    "imputer = KNNImputer(n_neighbors=7)\n",
    "# Extract the column to be imputed as a 2D array\n",
    "data = df[['Wifi & Connectivity']].values.reshape(-1, 1)\n",
    "# Perform KNN imputation\n",
    "imputed_values = imputer.fit_transform(data)   \n",
    "# Round the imputed values to the nearest integers\n",
    "imputed_data_rounded = np.round(imputed_values)"
   ]
  },
  {
   "cell_type": "code",
   "execution_count": 54,
   "metadata": {},
   "outputs": [],
   "source": [
    "df['Wifi & Connectivity']=imputed_data_rounded"
   ]
  },
  {
   "cell_type": "code",
   "execution_count": 55,
   "metadata": {},
   "outputs": [
    {
     "data": {
      "text/plain": [
       "0"
      ]
     },
     "execution_count": 55,
     "metadata": {},
     "output_type": "execute_result"
    }
   ],
   "source": [
    "df['Wifi & Connectivity'].isnull().sum()"
   ]
  },
  {
   "cell_type": "code",
   "execution_count": 56,
   "metadata": {},
   "outputs": [
    {
     "data": {
      "text/plain": [
       "Wifi & Connectivity\n",
       "2.0    17730\n",
       "1.0     4061\n",
       "5.0      492\n",
       "3.0      487\n",
       "4.0      400\n",
       "0.0        1\n",
       "Name: count, dtype: int64"
      ]
     },
     "execution_count": 56,
     "metadata": {},
     "output_type": "execute_result"
    }
   ],
   "source": [
    "df['Wifi & Connectivity'].value_counts()"
   ]
  },
  {
   "cell_type": "markdown",
   "metadata": {},
   "source": [
    "#### Value For Money "
   ]
  },
  {
   "cell_type": "code",
   "execution_count": 57,
   "metadata": {},
   "outputs": [
    {
     "data": {
      "text/plain": [
       "Value For Money\n",
       "1.0    10136\n",
       "5.0     3808\n",
       "4.0     3379\n",
       "2.0     2444\n",
       "3.0     2201\n",
       "0.0      137\n",
       "Name: count, dtype: int64"
      ]
     },
     "execution_count": 57,
     "metadata": {},
     "output_type": "execute_result"
    }
   ],
   "source": [
    "df['Value For Money'].value_counts()"
   ]
  },
  {
   "cell_type": "code",
   "execution_count": 58,
   "metadata": {},
   "outputs": [],
   "source": [
    "from sklearn.impute import KNNImputer\n",
    "imputer = KNNImputer(n_neighbors=3)\n",
    "# Extract the column to be imputed as a 2D array\n",
    "data = df[['Value For Money']].values.reshape(-1, 1)\n",
    "# Perform KNN imputation\n",
    "imputed_values = imputer.fit_transform(data)   \n",
    "# Round the imputed values to the nearest integers\n",
    "imputed_data_rounded = np.round(imputed_values)"
   ]
  },
  {
   "cell_type": "code",
   "execution_count": 59,
   "metadata": {},
   "outputs": [],
   "source": [
    "df['Value For Money']=imputed_data_rounded"
   ]
  },
  {
   "cell_type": "code",
   "execution_count": 60,
   "metadata": {},
   "outputs": [
    {
     "data": {
      "text/plain": [
       "0"
      ]
     },
     "execution_count": 60,
     "metadata": {},
     "output_type": "execute_result"
    }
   ],
   "source": [
    "df['Value For Money'].isnull().sum()"
   ]
  },
  {
   "cell_type": "code",
   "execution_count": 61,
   "metadata": {},
   "outputs": [
    {
     "data": {
      "text/plain": [
       "Value For Money\n",
       "1.0    10136\n",
       "5.0     3808\n",
       "2.0     3510\n",
       "4.0     3379\n",
       "3.0     2201\n",
       "0.0      137\n",
       "Name: count, dtype: int64"
      ]
     },
     "execution_count": 61,
     "metadata": {},
     "output_type": "execute_result"
    }
   ],
   "source": [
    "df['Value For Money'].value_counts()"
   ]
  },
  {
   "cell_type": "markdown",
   "metadata": {},
   "source": [
    "#### Recommended"
   ]
  },
  {
   "cell_type": "code",
   "execution_count": 62,
   "metadata": {},
   "outputs": [
    {
     "data": {
      "text/plain": [
       "Recommended\n",
       "no     15364\n",
       "yes     7807\n",
       "Name: count, dtype: int64"
      ]
     },
     "execution_count": 62,
     "metadata": {},
     "output_type": "execute_result"
    }
   ],
   "source": [
    "df['Recommended'].value_counts()"
   ]
  },
  {
   "cell_type": "code",
   "execution_count": 63,
   "metadata": {},
   "outputs": [],
   "source": [
    "df['Recommended']=df['Recommended'].map({'no':0,'yes':1})"
   ]
  },
  {
   "cell_type": "code",
   "execution_count": 64,
   "metadata": {},
   "outputs": [
    {
     "data": {
      "text/plain": [
       "Recommended\n",
       "0    15364\n",
       "1     7807\n",
       "Name: count, dtype: int64"
      ]
     },
     "execution_count": 64,
     "metadata": {},
     "output_type": "execute_result"
    }
   ],
   "source": [
    "df['Recommended'].value_counts()"
   ]
  },
  {
   "cell_type": "code",
   "execution_count": 65,
   "metadata": {},
   "outputs": [
    {
     "name": "stdout",
     "output_type": "stream",
     "text": [
      "<class 'pandas.core.frame.DataFrame'>\n",
      "RangeIndex: 23171 entries, 0 to 23170\n",
      "Data columns (total 19 columns):\n",
      " #   Column                  Non-Null Count  Dtype  \n",
      "---  ------                  --------------  -----  \n",
      " 0   Airline Name            23171 non-null  object \n",
      " 1   Overall_Rating          23171 non-null  int64  \n",
      " 2   Review_Title            23171 non-null  object \n",
      " 3   Review Date             23171 non-null  object \n",
      " 4   Verified                23171 non-null  bool   \n",
      " 5   Review                  23171 non-null  object \n",
      " 6   Aircraft                7129 non-null   object \n",
      " 7   Type Of Traveller       23171 non-null  object \n",
      " 8   Seat Type               23171 non-null  object \n",
      " 9   Route                   19343 non-null  object \n",
      " 10  Date Flown              19417 non-null  object \n",
      " 11  Seat Comfort            23171 non-null  float64\n",
      " 12  Cabin Staff Service     23171 non-null  float64\n",
      " 13  Food & Beverages        23171 non-null  float64\n",
      " 14  Ground Service          23171 non-null  float64\n",
      " 15  Inflight Entertainment  23171 non-null  float64\n",
      " 16  Wifi & Connectivity     23171 non-null  float64\n",
      " 17  Value For Money         23171 non-null  float64\n",
      " 18  Recommended             23171 non-null  int64  \n",
      "dtypes: bool(1), float64(7), int64(2), object(9)\n",
      "memory usage: 3.2+ MB\n"
     ]
    }
   ],
   "source": [
    "df.info()"
   ]
  },
  {
   "cell_type": "markdown",
   "metadata": {},
   "source": [
    "### CORRELATION"
   ]
  },
  {
   "cell_type": "code",
   "execution_count": 66,
   "metadata": {},
   "outputs": [
    {
     "data": {
      "text/plain": [
       "Index(['Overall_Rating', 'Verified', 'Seat Comfort', 'Cabin Staff Service',\n",
       "       'Food & Beverages', 'Ground Service', 'Inflight Entertainment',\n",
       "       'Wifi & Connectivity', 'Value For Money', 'Recommended'],\n",
       "      dtype='object')"
      ]
     },
     "execution_count": 66,
     "metadata": {},
     "output_type": "execute_result"
    }
   ],
   "source": [
    "df.select_dtypes(exclude='object').columns"
   ]
  },
  {
   "cell_type": "code",
   "execution_count": 67,
   "metadata": {},
   "outputs": [
    {
     "data": {
      "text/html": [
       "<div>\n",
       "<style scoped>\n",
       "    .dataframe tbody tr th:only-of-type {\n",
       "        vertical-align: middle;\n",
       "    }\n",
       "\n",
       "    .dataframe tbody tr th {\n",
       "        vertical-align: top;\n",
       "    }\n",
       "\n",
       "    .dataframe thead th {\n",
       "        text-align: right;\n",
       "    }\n",
       "</style>\n",
       "<table border=\"1\" class=\"dataframe\">\n",
       "  <thead>\n",
       "    <tr style=\"text-align: right;\">\n",
       "      <th></th>\n",
       "      <th>Overall_Rating</th>\n",
       "      <th>Verified</th>\n",
       "      <th>Seat Comfort</th>\n",
       "      <th>Cabin Staff Service</th>\n",
       "      <th>Food &amp; Beverages</th>\n",
       "      <th>Ground Service</th>\n",
       "      <th>Inflight Entertainment</th>\n",
       "      <th>Wifi &amp; Connectivity</th>\n",
       "      <th>Value For Money</th>\n",
       "      <th>Recommended</th>\n",
       "    </tr>\n",
       "  </thead>\n",
       "  <tbody>\n",
       "    <tr>\n",
       "      <th>Overall_Rating</th>\n",
       "      <td>1.000000</td>\n",
       "      <td>-0.204300</td>\n",
       "      <td>0.391663</td>\n",
       "      <td>0.407321</td>\n",
       "      <td>0.279099</td>\n",
       "      <td>0.422733</td>\n",
       "      <td>0.162362</td>\n",
       "      <td>0.163347</td>\n",
       "      <td>0.502475</td>\n",
       "      <td>0.534450</td>\n",
       "    </tr>\n",
       "    <tr>\n",
       "      <th>Verified</th>\n",
       "      <td>-0.204300</td>\n",
       "      <td>1.000000</td>\n",
       "      <td>-0.033742</td>\n",
       "      <td>-0.015314</td>\n",
       "      <td>-0.004919</td>\n",
       "      <td>0.030087</td>\n",
       "      <td>0.092008</td>\n",
       "      <td>-0.003812</td>\n",
       "      <td>-0.061684</td>\n",
       "      <td>-0.073313</td>\n",
       "    </tr>\n",
       "    <tr>\n",
       "      <th>Seat Comfort</th>\n",
       "      <td>0.391663</td>\n",
       "      <td>-0.033742</td>\n",
       "      <td>1.000000</td>\n",
       "      <td>0.751452</td>\n",
       "      <td>0.607497</td>\n",
       "      <td>0.646234</td>\n",
       "      <td>0.467532</td>\n",
       "      <td>0.377799</td>\n",
       "      <td>0.692642</td>\n",
       "      <td>0.635790</td>\n",
       "    </tr>\n",
       "    <tr>\n",
       "      <th>Cabin Staff Service</th>\n",
       "      <td>0.407321</td>\n",
       "      <td>-0.015314</td>\n",
       "      <td>0.751452</td>\n",
       "      <td>1.000000</td>\n",
       "      <td>0.639768</td>\n",
       "      <td>0.660996</td>\n",
       "      <td>0.447333</td>\n",
       "      <td>0.360149</td>\n",
       "      <td>0.697259</td>\n",
       "      <td>0.653938</td>\n",
       "    </tr>\n",
       "    <tr>\n",
       "      <th>Food &amp; Beverages</th>\n",
       "      <td>0.279099</td>\n",
       "      <td>-0.004919</td>\n",
       "      <td>0.607497</td>\n",
       "      <td>0.639768</td>\n",
       "      <td>1.000000</td>\n",
       "      <td>0.508019</td>\n",
       "      <td>0.534867</td>\n",
       "      <td>0.418217</td>\n",
       "      <td>0.571232</td>\n",
       "      <td>0.537770</td>\n",
       "    </tr>\n",
       "    <tr>\n",
       "      <th>Ground Service</th>\n",
       "      <td>0.422733</td>\n",
       "      <td>0.030087</td>\n",
       "      <td>0.646234</td>\n",
       "      <td>0.660996</td>\n",
       "      <td>0.508019</td>\n",
       "      <td>1.000000</td>\n",
       "      <td>0.417499</td>\n",
       "      <td>0.348363</td>\n",
       "      <td>0.738261</td>\n",
       "      <td>0.703039</td>\n",
       "    </tr>\n",
       "    <tr>\n",
       "      <th>Inflight Entertainment</th>\n",
       "      <td>0.162362</td>\n",
       "      <td>0.092008</td>\n",
       "      <td>0.467532</td>\n",
       "      <td>0.447333</td>\n",
       "      <td>0.534867</td>\n",
       "      <td>0.417499</td>\n",
       "      <td>1.000000</td>\n",
       "      <td>0.494106</td>\n",
       "      <td>0.421943</td>\n",
       "      <td>0.372822</td>\n",
       "    </tr>\n",
       "    <tr>\n",
       "      <th>Wifi &amp; Connectivity</th>\n",
       "      <td>0.163347</td>\n",
       "      <td>-0.003812</td>\n",
       "      <td>0.377799</td>\n",
       "      <td>0.360149</td>\n",
       "      <td>0.418217</td>\n",
       "      <td>0.348363</td>\n",
       "      <td>0.494106</td>\n",
       "      <td>1.000000</td>\n",
       "      <td>0.334175</td>\n",
       "      <td>0.309560</td>\n",
       "    </tr>\n",
       "    <tr>\n",
       "      <th>Value For Money</th>\n",
       "      <td>0.502475</td>\n",
       "      <td>-0.061684</td>\n",
       "      <td>0.692642</td>\n",
       "      <td>0.697259</td>\n",
       "      <td>0.571232</td>\n",
       "      <td>0.738261</td>\n",
       "      <td>0.421943</td>\n",
       "      <td>0.334175</td>\n",
       "      <td>1.000000</td>\n",
       "      <td>0.833874</td>\n",
       "    </tr>\n",
       "    <tr>\n",
       "      <th>Recommended</th>\n",
       "      <td>0.534450</td>\n",
       "      <td>-0.073313</td>\n",
       "      <td>0.635790</td>\n",
       "      <td>0.653938</td>\n",
       "      <td>0.537770</td>\n",
       "      <td>0.703039</td>\n",
       "      <td>0.372822</td>\n",
       "      <td>0.309560</td>\n",
       "      <td>0.833874</td>\n",
       "      <td>1.000000</td>\n",
       "    </tr>\n",
       "  </tbody>\n",
       "</table>\n",
       "</div>"
      ],
      "text/plain": [
       "                        Overall_Rating  Verified  Seat Comfort  \\\n",
       "Overall_Rating                1.000000 -0.204300      0.391663   \n",
       "Verified                     -0.204300  1.000000     -0.033742   \n",
       "Seat Comfort                  0.391663 -0.033742      1.000000   \n",
       "Cabin Staff Service           0.407321 -0.015314      0.751452   \n",
       "Food & Beverages              0.279099 -0.004919      0.607497   \n",
       "Ground Service                0.422733  0.030087      0.646234   \n",
       "Inflight Entertainment        0.162362  0.092008      0.467532   \n",
       "Wifi & Connectivity           0.163347 -0.003812      0.377799   \n",
       "Value For Money               0.502475 -0.061684      0.692642   \n",
       "Recommended                   0.534450 -0.073313      0.635790   \n",
       "\n",
       "                        Cabin Staff Service  Food & Beverages  Ground Service  \\\n",
       "Overall_Rating                     0.407321          0.279099        0.422733   \n",
       "Verified                          -0.015314         -0.004919        0.030087   \n",
       "Seat Comfort                       0.751452          0.607497        0.646234   \n",
       "Cabin Staff Service                1.000000          0.639768        0.660996   \n",
       "Food & Beverages                   0.639768          1.000000        0.508019   \n",
       "Ground Service                     0.660996          0.508019        1.000000   \n",
       "Inflight Entertainment             0.447333          0.534867        0.417499   \n",
       "Wifi & Connectivity                0.360149          0.418217        0.348363   \n",
       "Value For Money                    0.697259          0.571232        0.738261   \n",
       "Recommended                        0.653938          0.537770        0.703039   \n",
       "\n",
       "                        Inflight Entertainment  Wifi & Connectivity  \\\n",
       "Overall_Rating                        0.162362             0.163347   \n",
       "Verified                              0.092008            -0.003812   \n",
       "Seat Comfort                          0.467532             0.377799   \n",
       "Cabin Staff Service                   0.447333             0.360149   \n",
       "Food & Beverages                      0.534867             0.418217   \n",
       "Ground Service                        0.417499             0.348363   \n",
       "Inflight Entertainment                1.000000             0.494106   \n",
       "Wifi & Connectivity                   0.494106             1.000000   \n",
       "Value For Money                       0.421943             0.334175   \n",
       "Recommended                           0.372822             0.309560   \n",
       "\n",
       "                        Value For Money  Recommended  \n",
       "Overall_Rating                 0.502475     0.534450  \n",
       "Verified                      -0.061684    -0.073313  \n",
       "Seat Comfort                   0.692642     0.635790  \n",
       "Cabin Staff Service            0.697259     0.653938  \n",
       "Food & Beverages               0.571232     0.537770  \n",
       "Ground Service                 0.738261     0.703039  \n",
       "Inflight Entertainment         0.421943     0.372822  \n",
       "Wifi & Connectivity            0.334175     0.309560  \n",
       "Value For Money                1.000000     0.833874  \n",
       "Recommended                    0.833874     1.000000  "
      ]
     },
     "execution_count": 67,
     "metadata": {},
     "output_type": "execute_result"
    }
   ],
   "source": [
    "corr=df[['Overall_Rating', 'Verified', 'Seat Comfort', 'Cabin Staff Service',\n",
    "       'Food & Beverages', 'Ground Service', 'Inflight Entertainment',\n",
    "       'Wifi & Connectivity', 'Value For Money', 'Recommended']].corr()\n",
    "corr"
   ]
  },
  {
   "cell_type": "markdown",
   "metadata": {},
   "source": [
    "#### Columns to be dropped according to correlation<0.5 :\n",
    "* Wifi & Connectivity\n",
    "* Inflight Entertainment\n",
    "* Verified\n"
   ]
  },
  {
   "cell_type": "code",
   "execution_count": 68,
   "metadata": {},
   "outputs": [
    {
     "name": "stdout",
     "output_type": "stream",
     "text": [
      "<class 'pandas.core.frame.DataFrame'>\n",
      "RangeIndex: 23171 entries, 0 to 23170\n",
      "Data columns (total 19 columns):\n",
      " #   Column                  Non-Null Count  Dtype  \n",
      "---  ------                  --------------  -----  \n",
      " 0   Airline Name            23171 non-null  object \n",
      " 1   Overall_Rating          23171 non-null  int64  \n",
      " 2   Review_Title            23171 non-null  object \n",
      " 3   Review Date             23171 non-null  object \n",
      " 4   Verified                23171 non-null  bool   \n",
      " 5   Review                  23171 non-null  object \n",
      " 6   Aircraft                7129 non-null   object \n",
      " 7   Type Of Traveller       23171 non-null  object \n",
      " 8   Seat Type               23171 non-null  object \n",
      " 9   Route                   19343 non-null  object \n",
      " 10  Date Flown              19417 non-null  object \n",
      " 11  Seat Comfort            23171 non-null  float64\n",
      " 12  Cabin Staff Service     23171 non-null  float64\n",
      " 13  Food & Beverages        23171 non-null  float64\n",
      " 14  Ground Service          23171 non-null  float64\n",
      " 15  Inflight Entertainment  23171 non-null  float64\n",
      " 16  Wifi & Connectivity     23171 non-null  float64\n",
      " 17  Value For Money         23171 non-null  float64\n",
      " 18  Recommended             23171 non-null  int64  \n",
      "dtypes: bool(1), float64(7), int64(2), object(9)\n",
      "memory usage: 3.2+ MB\n"
     ]
    }
   ],
   "source": [
    "df.info()"
   ]
  },
  {
   "cell_type": "code",
   "execution_count": 69,
   "metadata": {},
   "outputs": [],
   "source": [
    "df.drop(['Wifi & Connectivity','Inflight Entertainment','Verified','Aircraft','Airline Name','Review Date','Route','Date Flown'],axis=1,inplace=True)"
   ]
  },
  {
   "cell_type": "code",
   "execution_count": 70,
   "metadata": {},
   "outputs": [
    {
     "name": "stdout",
     "output_type": "stream",
     "text": [
      "<class 'pandas.core.frame.DataFrame'>\n",
      "RangeIndex: 23171 entries, 0 to 23170\n",
      "Data columns (total 11 columns):\n",
      " #   Column               Non-Null Count  Dtype  \n",
      "---  ------               --------------  -----  \n",
      " 0   Overall_Rating       23171 non-null  int64  \n",
      " 1   Review_Title         23171 non-null  object \n",
      " 2   Review               23171 non-null  object \n",
      " 3   Type Of Traveller    23171 non-null  object \n",
      " 4   Seat Type            23171 non-null  object \n",
      " 5   Seat Comfort         23171 non-null  float64\n",
      " 6   Cabin Staff Service  23171 non-null  float64\n",
      " 7   Food & Beverages     23171 non-null  float64\n",
      " 8   Ground Service       23171 non-null  float64\n",
      " 9   Value For Money      23171 non-null  float64\n",
      " 10  Recommended          23171 non-null  int64  \n",
      "dtypes: float64(5), int64(2), object(4)\n",
      "memory usage: 1.9+ MB\n"
     ]
    }
   ],
   "source": [
    "df.info()"
   ]
  },
  {
   "cell_type": "markdown",
   "metadata": {},
   "source": [
    "#### ENCODING"
   ]
  },
  {
   "cell_type": "code",
   "execution_count": 71,
   "metadata": {},
   "outputs": [],
   "source": [
    "newdf=pd.get_dummies(df, columns=['Type Of Traveller'], prefix = ['traveller'],dtype=int)\n"
   ]
  },
  {
   "cell_type": "code",
   "execution_count": 72,
   "metadata": {},
   "outputs": [],
   "source": [
    "new_df=pd.get_dummies(newdf, columns=['Seat Type'], prefix = ['seat'],dtype=int)"
   ]
  },
  {
   "cell_type": "code",
   "execution_count": 73,
   "metadata": {},
   "outputs": [
    {
     "data": {
      "text/plain": [
       "(23171, 17)"
      ]
     },
     "execution_count": 73,
     "metadata": {},
     "output_type": "execute_result"
    }
   ],
   "source": [
    "new_df.shape"
   ]
  },
  {
   "cell_type": "code",
   "execution_count": 74,
   "metadata": {},
   "outputs": [
    {
     "name": "stdout",
     "output_type": "stream",
     "text": [
      "<class 'pandas.core.frame.DataFrame'>\n",
      "RangeIndex: 23171 entries, 0 to 23170\n",
      "Data columns (total 17 columns):\n",
      " #   Column                    Non-Null Count  Dtype  \n",
      "---  ------                    --------------  -----  \n",
      " 0   Overall_Rating            23171 non-null  int64  \n",
      " 1   Review_Title              23171 non-null  object \n",
      " 2   Review                    23171 non-null  object \n",
      " 3   Seat Comfort              23171 non-null  float64\n",
      " 4   Cabin Staff Service       23171 non-null  float64\n",
      " 5   Food & Beverages          23171 non-null  float64\n",
      " 6   Ground Service            23171 non-null  float64\n",
      " 7   Value For Money           23171 non-null  float64\n",
      " 8   Recommended               23171 non-null  int64  \n",
      " 9   traveller_Business        23171 non-null  int64  \n",
      " 10  traveller_Couple Leisure  23171 non-null  int64  \n",
      " 11  traveller_Family Leisure  23171 non-null  int64  \n",
      " 12  traveller_Solo Leisure    23171 non-null  int64  \n",
      " 13  seat_Business Class       23171 non-null  int64  \n",
      " 14  seat_Economy Class        23171 non-null  int64  \n",
      " 15  seat_First Class          23171 non-null  int64  \n",
      " 16  seat_Premium Economy      23171 non-null  int64  \n",
      "dtypes: float64(5), int64(10), object(2)\n",
      "memory usage: 3.0+ MB\n"
     ]
    }
   ],
   "source": [
    "new_df.info()"
   ]
  },
  {
   "cell_type": "code",
   "execution_count": 75,
   "metadata": {},
   "outputs": [],
   "source": [
    "target=new_df.pop('Recommended')\n",
    "new_df['Recommended']=target"
   ]
  },
  {
   "cell_type": "code",
   "execution_count": 76,
   "metadata": {},
   "outputs": [
    {
     "name": "stdout",
     "output_type": "stream",
     "text": [
      "<class 'pandas.core.frame.DataFrame'>\n",
      "RangeIndex: 23171 entries, 0 to 23170\n",
      "Data columns (total 17 columns):\n",
      " #   Column                    Non-Null Count  Dtype  \n",
      "---  ------                    --------------  -----  \n",
      " 0   Overall_Rating            23171 non-null  int64  \n",
      " 1   Review_Title              23171 non-null  object \n",
      " 2   Review                    23171 non-null  object \n",
      " 3   Seat Comfort              23171 non-null  float64\n",
      " 4   Cabin Staff Service       23171 non-null  float64\n",
      " 5   Food & Beverages          23171 non-null  float64\n",
      " 6   Ground Service            23171 non-null  float64\n",
      " 7   Value For Money           23171 non-null  float64\n",
      " 8   traveller_Business        23171 non-null  int64  \n",
      " 9   traveller_Couple Leisure  23171 non-null  int64  \n",
      " 10  traveller_Family Leisure  23171 non-null  int64  \n",
      " 11  traveller_Solo Leisure    23171 non-null  int64  \n",
      " 12  seat_Business Class       23171 non-null  int64  \n",
      " 13  seat_Economy Class        23171 non-null  int64  \n",
      " 14  seat_First Class          23171 non-null  int64  \n",
      " 15  seat_Premium Economy      23171 non-null  int64  \n",
      " 16  Recommended               23171 non-null  int64  \n",
      "dtypes: float64(5), int64(10), object(2)\n",
      "memory usage: 3.0+ MB\n"
     ]
    }
   ],
   "source": [
    "new_df.info()"
   ]
  },
  {
   "cell_type": "markdown",
   "metadata": {},
   "source": [
    "### TEXT DATA PRE-PROCESSING"
   ]
  },
  {
   "cell_type": "code",
   "execution_count": 77,
   "metadata": {},
   "outputs": [
    {
     "data": {
      "text/plain": [
       "Review_Title\n",
       "Onur Air customer review                  84\n",
       "US Airways customer review                75\n",
       "Germanwings customer review               74\n",
       "Meridiana customer review                 71\n",
       "CityJet customer review                   68\n",
       "                                          ..\n",
       "\"I will not fly Delta again\"               1\n",
       "\"could not have been kinder\"               1\n",
       "\"Terrible experience with Delta\"           1\n",
       "\"Got delayed more than 4 hours\"            1\n",
       "\"lost all of our money with no refund\"     1\n",
       "Name: count, Length: 17219, dtype: int64"
      ]
     },
     "execution_count": 77,
     "metadata": {},
     "output_type": "execute_result"
    }
   ],
   "source": [
    "new_df['Review_Title'].value_counts()"
   ]
  },
  {
   "cell_type": "code",
   "execution_count": 78,
   "metadata": {},
   "outputs": [
    {
     "data": {
      "text/plain": [
       "0          Moroni to Moheli. Turned out to be a pretty ...\n",
       "1         Moroni to Anjouan. It is a very small airline...\n",
       "2          Anjouan to Dzaoudzi. A very small airline an...\n",
       "3          Please do a favor yourself and do not fly wi...\n",
       "4         Do not book a flight with this airline! My fr...\n",
       "                               ...                        \n",
       "23166     Bangkok to Tokyo. I’ve flown many low cost ai...\n",
       "23167      Avoid at all costs. I booked flights to go f...\n",
       "23168      Flight was leaving at 23.15 and after an hou...\n",
       "23169     Zipair is JAL’s budget airline. They don’t ha...\n",
       "23170      They lied about connection in Narita and we ...\n",
       "Name: Review, Length: 23171, dtype: object"
      ]
     },
     "execution_count": 78,
     "metadata": {},
     "output_type": "execute_result"
    }
   ],
   "source": [
    "new_df['Review']"
   ]
  },
  {
   "cell_type": "code",
   "execution_count": 79,
   "metadata": {},
   "outputs": [],
   "source": [
    "def lower(text):\n",
    "    text=text.lower()\n",
    "    return text.strip()\n"
   ]
  },
  {
   "cell_type": "code",
   "execution_count": 80,
   "metadata": {},
   "outputs": [],
   "source": [
    "new_df['Review_Title']=new_df['Review_Title'].apply(lambda x:lower(x))"
   ]
  },
  {
   "cell_type": "code",
   "execution_count": 81,
   "metadata": {},
   "outputs": [],
   "source": [
    "new_df['Review']=new_df['Review'].apply(lambda x:lower(x))"
   ]
  },
  {
   "cell_type": "markdown",
   "metadata": {},
   "source": [
    "### Removing Punctuations"
   ]
  },
  {
   "cell_type": "code",
   "execution_count": 82,
   "metadata": {},
   "outputs": [
    {
     "data": {
      "text/plain": [
       "'!\"#$%&\\'()*+,-./:;<=>?@[\\\\]^_`{|}~'"
      ]
     },
     "execution_count": 82,
     "metadata": {},
     "output_type": "execute_result"
    }
   ],
   "source": [
    "import string\n",
    "string.punctuation"
   ]
  },
  {
   "cell_type": "code",
   "execution_count": 83,
   "metadata": {},
   "outputs": [],
   "source": [
    "import string\n",
    "def remove_pinctuation(text):\n",
    "    ch_text=\"\".join([i for i in text if i not in string.punctuation])\n",
    "    return ch_text"
   ]
  },
  {
   "cell_type": "code",
   "execution_count": 84,
   "metadata": {},
   "outputs": [],
   "source": [
    "new_df['Review_Title']=new_df['Review_Title'].apply(lambda x:remove_pinctuation(x))"
   ]
  },
  {
   "cell_type": "code",
   "execution_count": 85,
   "metadata": {},
   "outputs": [
    {
     "data": {
      "text/plain": [
       "0                       pretty decent airline\n",
       "1                          not a good airline\n",
       "2                flight was fortunately short\n",
       "3           i will never fly again with adria\n",
       "4         it ruined our last days of holidays\n",
       "                         ...                 \n",
       "23166            customer service is terrible\n",
       "23167                      avoid at all costs\n",
       "23168            will not recommend to anyone\n",
       "23169               it was immaculately clean\n",
       "23170    lost all of our money with no refund\n",
       "Name: Review_Title, Length: 23171, dtype: object"
      ]
     },
     "execution_count": 85,
     "metadata": {},
     "output_type": "execute_result"
    }
   ],
   "source": [
    "new_df['Review_Title']"
   ]
  },
  {
   "cell_type": "code",
   "execution_count": 86,
   "metadata": {},
   "outputs": [],
   "source": [
    "new_df['Review']=new_df['Review'].apply(lambda x:remove_pinctuation(x))"
   ]
  },
  {
   "cell_type": "code",
   "execution_count": 87,
   "metadata": {},
   "outputs": [
    {
     "data": {
      "text/plain": [
       "0        moroni to moheli turned out to be a pretty dec...\n",
       "1        moroni to anjouan it is a very small airline m...\n",
       "2        anjouan to dzaoudzi a very small airline and t...\n",
       "3        please do a favor yourself and do not fly with...\n",
       "4        do not book a flight with this airline my frie...\n",
       "                               ...                        \n",
       "23166    bangkok to tokyo i’ve flown many low cost airl...\n",
       "23167    avoid at all costs i booked flights to go from...\n",
       "23168    flight was leaving at 2315 and after an hour a...\n",
       "23169    zipair is jal’s budget airline they don’t have...\n",
       "23170    they lied about connection in narita and we lo...\n",
       "Name: Review, Length: 23171, dtype: object"
      ]
     },
     "execution_count": 87,
     "metadata": {},
     "output_type": "execute_result"
    }
   ],
   "source": [
    "new_df['Review']"
   ]
  },
  {
   "cell_type": "markdown",
   "metadata": {},
   "source": [
    "### Removing Digits"
   ]
  },
  {
   "cell_type": "code",
   "execution_count": 88,
   "metadata": {},
   "outputs": [],
   "source": [
    "import re\n",
    "def remove_digit(text):\n",
    "    clean_text=re.sub(r\"\\b[0-9]+\\b\\s*\",\"\",text)\n",
    "    return(clean_text)"
   ]
  },
  {
   "cell_type": "code",
   "execution_count": 89,
   "metadata": {},
   "outputs": [],
   "source": [
    "new_df['Review_Title']=new_df['Review_Title'].apply(lambda x:remove_digit(x))"
   ]
  },
  {
   "cell_type": "code",
   "execution_count": 90,
   "metadata": {},
   "outputs": [],
   "source": [
    "new_df['Review']=new_df['Review'].apply(lambda x:remove_digit(x))"
   ]
  },
  {
   "cell_type": "markdown",
   "metadata": {},
   "source": [
    "### Removing Stop Words"
   ]
  },
  {
   "cell_type": "code",
   "execution_count": 91,
   "metadata": {},
   "outputs": [],
   "source": [
    "import nltk\n",
    "stopwords=nltk.corpus.stopwords.words('english')"
   ]
  },
  {
   "cell_type": "code",
   "execution_count": 92,
   "metadata": {},
   "outputs": [],
   "source": [
    "def remove_stopwords(text):\n",
    "    tokens=nltk.word_tokenize(text)\n",
    "    output=\" \".join(i for i in tokens if i not in stopwords)\n",
    "    return output"
   ]
  },
  {
   "cell_type": "code",
   "execution_count": 93,
   "metadata": {},
   "outputs": [],
   "source": [
    "new_df['Review_Title']=new_df['Review_Title'].apply(lambda x:remove_stopwords(x))"
   ]
  },
  {
   "cell_type": "code",
   "execution_count": 94,
   "metadata": {},
   "outputs": [
    {
     "data": {
      "text/plain": [
       "0            pretty decent airline\n",
       "1                     good airline\n",
       "2         flight fortunately short\n",
       "3                  never fly adria\n",
       "4        ruined last days holidays\n",
       "                   ...            \n",
       "23166    customer service terrible\n",
       "23167                  avoid costs\n",
       "23168             recommend anyone\n",
       "23169           immaculately clean\n",
       "23170            lost money refund\n",
       "Name: Review_Title, Length: 23171, dtype: object"
      ]
     },
     "execution_count": 94,
     "metadata": {},
     "output_type": "execute_result"
    }
   ],
   "source": [
    "new_df['Review_Title']"
   ]
  },
  {
   "cell_type": "code",
   "execution_count": 95,
   "metadata": {},
   "outputs": [],
   "source": [
    "new_df['Review']=new_df['Review'].apply(lambda x:remove_stopwords(x))"
   ]
  },
  {
   "cell_type": "code",
   "execution_count": 96,
   "metadata": {},
   "outputs": [
    {
     "data": {
      "text/plain": [
       "0        moroni moheli turned pretty decent airline onl...\n",
       "1        moroni anjouan small airline ticket advised tu...\n",
       "2        anjouan dzaoudzi small airline airline based c...\n",
       "3        please favor fly adria route munich pristina j...\n",
       "4        book flight airline friend returned sofia amst...\n",
       "                               ...                        \n",
       "23166    bangkok tokyo ’ flown many low cost airlines s...\n",
       "23167    avoid costs booked flights go singapore tokyo ...\n",
       "23168    flight leaving hour half flying get back airpo...\n",
       "23169    zipair jal ’ budget airline ’ classes travel p...\n",
       "23170    lied connection narita lost money refund agree...\n",
       "Name: Review, Length: 23171, dtype: object"
      ]
     },
     "execution_count": 96,
     "metadata": {},
     "output_type": "execute_result"
    }
   ],
   "source": [
    "new_df['Review']"
   ]
  },
  {
   "cell_type": "markdown",
   "metadata": {},
   "source": [
    "### Removing Special Character(')"
   ]
  },
  {
   "cell_type": "code",
   "execution_count": 97,
   "metadata": {},
   "outputs": [
    {
     "data": {
      "text/plain": [
       "False"
      ]
     },
     "execution_count": 97,
     "metadata": {},
     "output_type": "execute_result"
    }
   ],
   "source": [
    "'\\’' in string.punctuation"
   ]
  },
  {
   "cell_type": "code",
   "execution_count": 98,
   "metadata": {},
   "outputs": [],
   "source": [
    "def remove_special_character(text):\n",
    "    # Define a regular expression pattern to match the character U+2019 (’)\n",
    "    special_char_pattern = r'\\u2019'\n",
    "    # Use the re.sub() function to replace all occurrences of the pattern with an empty string\n",
    "    cleaned_text = re.sub(special_char_pattern, '', text)\n",
    "    return cleaned_text"
   ]
  },
  {
   "cell_type": "code",
   "execution_count": 99,
   "metadata": {},
   "outputs": [],
   "source": [
    "new_df['Review']=new_df['Review'].apply(lambda x:remove_special_character(x))"
   ]
  },
  {
   "cell_type": "code",
   "execution_count": 100,
   "metadata": {},
   "outputs": [
    {
     "data": {
      "text/plain": [
       "0        moroni moheli turned pretty decent airline onl...\n",
       "1        moroni anjouan small airline ticket advised tu...\n",
       "2        anjouan dzaoudzi small airline airline based c...\n",
       "3        please favor fly adria route munich pristina j...\n",
       "4        book flight airline friend returned sofia amst...\n",
       "                               ...                        \n",
       "23166    bangkok tokyo  flown many low cost airlines st...\n",
       "23167    avoid costs booked flights go singapore tokyo ...\n",
       "23168    flight leaving hour half flying get back airpo...\n",
       "23169    zipair jal  budget airline  classes travel pic...\n",
       "23170    lied connection narita lost money refund agree...\n",
       "Name: Review, Length: 23171, dtype: object"
      ]
     },
     "execution_count": 100,
     "metadata": {},
     "output_type": "execute_result"
    }
   ],
   "source": [
    "new_df['Review']"
   ]
  },
  {
   "cell_type": "code",
   "execution_count": 101,
   "metadata": {},
   "outputs": [],
   "source": [
    "new_df['Review_Title']=new_df['Review_Title'].apply(lambda x:remove_special_character(x))"
   ]
  },
  {
   "cell_type": "code",
   "execution_count": 102,
   "metadata": {},
   "outputs": [
    {
     "data": {
      "text/plain": [
       "0            pretty decent airline\n",
       "1                     good airline\n",
       "2         flight fortunately short\n",
       "3                  never fly adria\n",
       "4        ruined last days holidays\n",
       "                   ...            \n",
       "23166    customer service terrible\n",
       "23167                  avoid costs\n",
       "23168             recommend anyone\n",
       "23169           immaculately clean\n",
       "23170            lost money refund\n",
       "Name: Review_Title, Length: 23171, dtype: object"
      ]
     },
     "execution_count": 102,
     "metadata": {},
     "output_type": "execute_result"
    }
   ],
   "source": [
    "new_df['Review_Title']"
   ]
  },
  {
   "cell_type": "markdown",
   "metadata": {},
   "source": [
    "### Lemmatization"
   ]
  },
  {
   "cell_type": "code",
   "execution_count": 103,
   "metadata": {},
   "outputs": [],
   "source": [
    "import spacy\n",
    "nlp=spacy.load('en_core_web_sm')"
   ]
  },
  {
   "cell_type": "code",
   "execution_count": 104,
   "metadata": {},
   "outputs": [],
   "source": [
    "stopwords=nlp.Defaults.stop_words\n",
    "def lemmatizer(text):\n",
    "    doc=nlp(text)\n",
    "    sent=[token.lemma_ for token in doc if not token.text in set(stopwords)]\n",
    "    return ' '.join(sent)"
   ]
  },
  {
   "cell_type": "code",
   "execution_count": 105,
   "metadata": {},
   "outputs": [],
   "source": [
    "new_df['Review_Title']=new_df['Review_Title'].apply(lambda x:lemmatizer(x))"
   ]
  },
  {
   "cell_type": "code",
   "execution_count": 106,
   "metadata": {},
   "outputs": [
    {
     "data": {
      "text/plain": [
       "0            pretty decent airline\n",
       "1                     good airline\n",
       "2         flight fortunately short\n",
       "3                        fly adria\n",
       "4                 ruin day holiday\n",
       "                   ...            \n",
       "23166    customer service terrible\n",
       "23167                   avoid cost\n",
       "23168                    recommend\n",
       "23169           immaculately clean\n",
       "23170            lose money refund\n",
       "Name: Review_Title, Length: 23171, dtype: object"
      ]
     },
     "execution_count": 106,
     "metadata": {},
     "output_type": "execute_result"
    }
   ],
   "source": [
    "new_df['Review_Title']"
   ]
  },
  {
   "cell_type": "code",
   "execution_count": 107,
   "metadata": {},
   "outputs": [],
   "source": [
    "new_df['Review']=new_df['Review'].apply(lambda x:lemmatizer(x))"
   ]
  },
  {
   "cell_type": "code",
   "execution_count": 108,
   "metadata": {},
   "outputs": [
    {
     "data": {
      "text/plain": [
       "0        moroni moheli turn pretty decent airline onlin...\n",
       "1        moroni anjouan small airline ticket advise tur...\n",
       "2        anjouan dzaoudzi small airline airline base co...\n",
       "3        favor fly adria route munich pristina july los...\n",
       "4        book flight airline friend return sofia amster...\n",
       "                               ...                        \n",
       "23166    bangkok tokyo   fly low cost airline serve mea...\n",
       "23167    avoid cost book flight singapore tokyo unfores...\n",
       "23168    flight leave hour half fly airport medical eme...\n",
       "23169    zipair jal   budget airline   class travel pic...\n",
       "23170    lie connection narita lose money refund agreem...\n",
       "Name: Review, Length: 23171, dtype: object"
      ]
     },
     "execution_count": 108,
     "metadata": {},
     "output_type": "execute_result"
    }
   ],
   "source": [
    "new_df['Review']"
   ]
  },
  {
   "cell_type": "markdown",
   "metadata": {},
   "source": [
    "### Vectorization"
   ]
  },
  {
   "cell_type": "code",
   "execution_count": 109,
   "metadata": {},
   "outputs": [],
   "source": [
    "from sklearn.feature_extraction.text import TfidfVectorizer\n",
    "tf=TfidfVectorizer()\n",
    "vec_review=tf.fit_transform(new_df[\"Review\"])"
   ]
  },
  {
   "cell_type": "code",
   "execution_count": 110,
   "metadata": {},
   "outputs": [],
   "source": [
    "vec_review_t=tf.fit_transform(new_df[\"Review_Title\"])"
   ]
  },
  {
   "cell_type": "markdown",
   "metadata": {},
   "source": [
    "### Dependent & Independent Variables"
   ]
  },
  {
   "cell_type": "code",
   "execution_count": 111,
   "metadata": {},
   "outputs": [],
   "source": [
    "# Split the DataFrame into features and target \n",
    "X = new_df.drop(columns=['Recommended'])\n",
    "y = new_df['Recommended'] "
   ]
  },
  {
   "cell_type": "markdown",
   "metadata": {},
   "source": [
    "### Final Feature Matrix Formation"
   ]
  },
  {
   "cell_type": "code",
   "execution_count": 112,
   "metadata": {},
   "outputs": [],
   "source": [
    "from scipy.sparse import csr_matrix, hstack\n",
    "# Concatenate the TF-IDF sparse matrix with the numeric columns\n",
    "# Convert the numeric data to a sparse matrix\n",
    "sparse_numeric_data = csr_matrix(X.drop(columns=[\"Review\",\"Review_Title\"]).values)\n",
    "# Concatenate the sparse matrices horizontally (along the columns)\n",
    "final_feature_matrix = hstack([sparse_numeric_data,vec_review, vec_review_t])"
   ]
  },
  {
   "cell_type": "code",
   "execution_count": 113,
   "metadata": {},
   "outputs": [
    {
     "data": {
      "text/plain": [
       "<23171x38051 sparse matrix of type '<class 'numpy.float64'>'\n",
       "\twith 1297747 stored elements in Compressed Sparse Row format>"
      ]
     },
     "execution_count": 113,
     "metadata": {},
     "output_type": "execute_result"
    }
   ],
   "source": [
    "final_feature_matrix"
   ]
  },
  {
   "cell_type": "markdown",
   "metadata": {},
   "source": [
    "### Splitting"
   ]
  },
  {
   "cell_type": "code",
   "execution_count": 114,
   "metadata": {},
   "outputs": [],
   "source": [
    "from sklearn.model_selection import train_test_split\n",
    "# Split the combined feature matrix and the target (if applicable) into train and test sets\n",
    "X_train, X_test, y_train, y_test = train_test_split(final_feature_matrix, y, test_size=0.2,stratify=y, random_state=42)\n"
   ]
  },
  {
   "cell_type": "code",
   "execution_count": 115,
   "metadata": {},
   "outputs": [
    {
     "data": {
      "text/plain": [
       "(18536, 38051)"
      ]
     },
     "execution_count": 115,
     "metadata": {},
     "output_type": "execute_result"
    }
   ],
   "source": [
    "X_train.shape"
   ]
  },
  {
   "cell_type": "code",
   "execution_count": 116,
   "metadata": {},
   "outputs": [
    {
     "data": {
      "text/plain": [
       "(18536,)"
      ]
     },
     "execution_count": 116,
     "metadata": {},
     "output_type": "execute_result"
    }
   ],
   "source": [
    "y_train.shape"
   ]
  },
  {
   "cell_type": "markdown",
   "metadata": {},
   "source": [
    "### MODEL"
   ]
  },
  {
   "cell_type": "markdown",
   "metadata": {},
   "source": [
    "### Logistic Regression"
   ]
  },
  {
   "cell_type": "code",
   "execution_count": 117,
   "metadata": {},
   "outputs": [],
   "source": [
    "from sklearn.linear_model import LogisticRegression\n",
    "logreg=LogisticRegression(n_jobs=-1)"
   ]
  },
  {
   "cell_type": "code",
   "execution_count": 118,
   "metadata": {},
   "outputs": [
    {
     "name": "stderr",
     "output_type": "stream",
     "text": [
      "/Library/Frameworks/Python.framework/Versions/3.11/lib/python3.11/site-packages/sklearn/linear_model/_logistic.py:460: ConvergenceWarning: lbfgs failed to converge (status=1):\n",
      "STOP: TOTAL NO. of ITERATIONS REACHED LIMIT.\n",
      "\n",
      "Increase the number of iterations (max_iter) or scale the data as shown in:\n",
      "    https://scikit-learn.org/stable/modules/preprocessing.html\n",
      "Please also refer to the documentation for alternative solver options:\n",
      "    https://scikit-learn.org/stable/modules/linear_model.html#logistic-regression\n",
      "  n_iter_i = _check_optimize_result(\n"
     ]
    },
    {
     "data": {
      "text/html": [
       "<style>#sk-container-id-1 {color: black;}#sk-container-id-1 pre{padding: 0;}#sk-container-id-1 div.sk-toggleable {background-color: white;}#sk-container-id-1 label.sk-toggleable__label {cursor: pointer;display: block;width: 100%;margin-bottom: 0;padding: 0.3em;box-sizing: border-box;text-align: center;}#sk-container-id-1 label.sk-toggleable__label-arrow:before {content: \"▸\";float: left;margin-right: 0.25em;color: #696969;}#sk-container-id-1 label.sk-toggleable__label-arrow:hover:before {color: black;}#sk-container-id-1 div.sk-estimator:hover label.sk-toggleable__label-arrow:before {color: black;}#sk-container-id-1 div.sk-toggleable__content {max-height: 0;max-width: 0;overflow: hidden;text-align: left;background-color: #f0f8ff;}#sk-container-id-1 div.sk-toggleable__content pre {margin: 0.2em;color: black;border-radius: 0.25em;background-color: #f0f8ff;}#sk-container-id-1 input.sk-toggleable__control:checked~div.sk-toggleable__content {max-height: 200px;max-width: 100%;overflow: auto;}#sk-container-id-1 input.sk-toggleable__control:checked~label.sk-toggleable__label-arrow:before {content: \"▾\";}#sk-container-id-1 div.sk-estimator input.sk-toggleable__control:checked~label.sk-toggleable__label {background-color: #d4ebff;}#sk-container-id-1 div.sk-label input.sk-toggleable__control:checked~label.sk-toggleable__label {background-color: #d4ebff;}#sk-container-id-1 input.sk-hidden--visually {border: 0;clip: rect(1px 1px 1px 1px);clip: rect(1px, 1px, 1px, 1px);height: 1px;margin: -1px;overflow: hidden;padding: 0;position: absolute;width: 1px;}#sk-container-id-1 div.sk-estimator {font-family: monospace;background-color: #f0f8ff;border: 1px dotted black;border-radius: 0.25em;box-sizing: border-box;margin-bottom: 0.5em;}#sk-container-id-1 div.sk-estimator:hover {background-color: #d4ebff;}#sk-container-id-1 div.sk-parallel-item::after {content: \"\";width: 100%;border-bottom: 1px solid gray;flex-grow: 1;}#sk-container-id-1 div.sk-label:hover label.sk-toggleable__label {background-color: #d4ebff;}#sk-container-id-1 div.sk-serial::before {content: \"\";position: absolute;border-left: 1px solid gray;box-sizing: border-box;top: 0;bottom: 0;left: 50%;z-index: 0;}#sk-container-id-1 div.sk-serial {display: flex;flex-direction: column;align-items: center;background-color: white;padding-right: 0.2em;padding-left: 0.2em;position: relative;}#sk-container-id-1 div.sk-item {position: relative;z-index: 1;}#sk-container-id-1 div.sk-parallel {display: flex;align-items: stretch;justify-content: center;background-color: white;position: relative;}#sk-container-id-1 div.sk-item::before, #sk-container-id-1 div.sk-parallel-item::before {content: \"\";position: absolute;border-left: 1px solid gray;box-sizing: border-box;top: 0;bottom: 0;left: 50%;z-index: -1;}#sk-container-id-1 div.sk-parallel-item {display: flex;flex-direction: column;z-index: 1;position: relative;background-color: white;}#sk-container-id-1 div.sk-parallel-item:first-child::after {align-self: flex-end;width: 50%;}#sk-container-id-1 div.sk-parallel-item:last-child::after {align-self: flex-start;width: 50%;}#sk-container-id-1 div.sk-parallel-item:only-child::after {width: 0;}#sk-container-id-1 div.sk-dashed-wrapped {border: 1px dashed gray;margin: 0 0.4em 0.5em 0.4em;box-sizing: border-box;padding-bottom: 0.4em;background-color: white;}#sk-container-id-1 div.sk-label label {font-family: monospace;font-weight: bold;display: inline-block;line-height: 1.2em;}#sk-container-id-1 div.sk-label-container {text-align: center;}#sk-container-id-1 div.sk-container {/* jupyter's `normalize.less` sets `[hidden] { display: none; }` but bootstrap.min.css set `[hidden] { display: none !important; }` so we also need the `!important` here to be able to override the default hidden behavior on the sphinx rendered scikit-learn.org. See: https://github.com/scikit-learn/scikit-learn/issues/21755 */display: inline-block !important;position: relative;}#sk-container-id-1 div.sk-text-repr-fallback {display: none;}</style><div id=\"sk-container-id-1\" class=\"sk-top-container\"><div class=\"sk-text-repr-fallback\"><pre>LogisticRegression(n_jobs=-1)</pre><b>In a Jupyter environment, please rerun this cell to show the HTML representation or trust the notebook. <br />On GitHub, the HTML representation is unable to render, please try loading this page with nbviewer.org.</b></div><div class=\"sk-container\" hidden><div class=\"sk-item\"><div class=\"sk-estimator sk-toggleable\"><input class=\"sk-toggleable__control sk-hidden--visually\" id=\"sk-estimator-id-1\" type=\"checkbox\" checked><label for=\"sk-estimator-id-1\" class=\"sk-toggleable__label sk-toggleable__label-arrow\">LogisticRegression</label><div class=\"sk-toggleable__content\"><pre>LogisticRegression(n_jobs=-1)</pre></div></div></div></div></div>"
      ],
      "text/plain": [
       "LogisticRegression(n_jobs=-1)"
      ]
     },
     "execution_count": 118,
     "metadata": {},
     "output_type": "execute_result"
    }
   ],
   "source": [
    "logreg.fit(X_train,y_train)"
   ]
  },
  {
   "cell_type": "code",
   "execution_count": 119,
   "metadata": {},
   "outputs": [],
   "source": [
    "log_pred=logreg.predict(X_test)"
   ]
  },
  {
   "cell_type": "code",
   "execution_count": 120,
   "metadata": {},
   "outputs": [
    {
     "name": "stdout",
     "output_type": "stream",
     "text": [
      "Accuracy: 0.9546925566343042\n",
      "Confusion Matrix:\n",
      "[[2970  103]\n",
      " [ 107 1455]]\n",
      "Precision: 0.9338896020539152\n",
      "Recall: 0.9314980793854033\n",
      "F1-Score: 0.9326923076923077\n"
     ]
    }
   ],
   "source": [
    "from sklearn.metrics import accuracy_score\n",
    "accuracy_lr = accuracy_score(y_test, log_pred)\n",
    "print('Accuracy:', accuracy_lr)\n",
    "\n",
    "from sklearn.metrics import confusion_matrix\n",
    "cm = confusion_matrix(y_test, log_pred)\n",
    "print(\"Confusion Matrix:\")\n",
    "print(cm)\n",
    "\n",
    "from sklearn.metrics import precision_score, recall_score, f1_score\n",
    "\n",
    "precision_lr = precision_score(y_test, log_pred)\n",
    "recall_lr = recall_score(y_test, log_pred)\n",
    "f1_lr = f1_score(y_test, log_pred)\n",
    "\n",
    "print(\"Precision:\", precision_lr)\n",
    "print(\"Recall:\", recall_lr)\n",
    "print(\"F1-Score:\", f1_lr)\n"
   ]
  },
  {
   "cell_type": "code",
   "execution_count": 127,
   "metadata": {},
   "outputs": [
    {
     "name": "stdout",
     "output_type": "stream",
     "text": [
      "              precision    recall  f1-score   support\n",
      "\n",
      "    Negative       0.97      0.97      0.97      3073\n",
      "    Positive       0.93      0.93      0.93      1562\n",
      "\n",
      "    accuracy                           0.95      4635\n",
      "   macro avg       0.95      0.95      0.95      4635\n",
      "weighted avg       0.95      0.95      0.95      4635\n",
      "\n"
     ]
    }
   ],
   "source": [
    "from sklearn.metrics import classification_report\n",
    "report = classification_report(y_test, log_pred,target_names=['Negative','Positive'])\n",
    "print(report)"
   ]
  },
  {
   "cell_type": "markdown",
   "metadata": {},
   "source": [
    "### Random Forest"
   ]
  },
  {
   "cell_type": "code",
   "execution_count": 122,
   "metadata": {},
   "outputs": [],
   "source": [
    "from sklearn.ensemble import RandomForestClassifier\n",
    "rf=RandomForestClassifier(n_jobs=-1)\n"
   ]
  },
  {
   "cell_type": "code",
   "execution_count": 123,
   "metadata": {},
   "outputs": [
    {
     "data": {
      "text/html": [
       "<style>#sk-container-id-2 {color: black;}#sk-container-id-2 pre{padding: 0;}#sk-container-id-2 div.sk-toggleable {background-color: white;}#sk-container-id-2 label.sk-toggleable__label {cursor: pointer;display: block;width: 100%;margin-bottom: 0;padding: 0.3em;box-sizing: border-box;text-align: center;}#sk-container-id-2 label.sk-toggleable__label-arrow:before {content: \"▸\";float: left;margin-right: 0.25em;color: #696969;}#sk-container-id-2 label.sk-toggleable__label-arrow:hover:before {color: black;}#sk-container-id-2 div.sk-estimator:hover label.sk-toggleable__label-arrow:before {color: black;}#sk-container-id-2 div.sk-toggleable__content {max-height: 0;max-width: 0;overflow: hidden;text-align: left;background-color: #f0f8ff;}#sk-container-id-2 div.sk-toggleable__content pre {margin: 0.2em;color: black;border-radius: 0.25em;background-color: #f0f8ff;}#sk-container-id-2 input.sk-toggleable__control:checked~div.sk-toggleable__content {max-height: 200px;max-width: 100%;overflow: auto;}#sk-container-id-2 input.sk-toggleable__control:checked~label.sk-toggleable__label-arrow:before {content: \"▾\";}#sk-container-id-2 div.sk-estimator input.sk-toggleable__control:checked~label.sk-toggleable__label {background-color: #d4ebff;}#sk-container-id-2 div.sk-label input.sk-toggleable__control:checked~label.sk-toggleable__label {background-color: #d4ebff;}#sk-container-id-2 input.sk-hidden--visually {border: 0;clip: rect(1px 1px 1px 1px);clip: rect(1px, 1px, 1px, 1px);height: 1px;margin: -1px;overflow: hidden;padding: 0;position: absolute;width: 1px;}#sk-container-id-2 div.sk-estimator {font-family: monospace;background-color: #f0f8ff;border: 1px dotted black;border-radius: 0.25em;box-sizing: border-box;margin-bottom: 0.5em;}#sk-container-id-2 div.sk-estimator:hover {background-color: #d4ebff;}#sk-container-id-2 div.sk-parallel-item::after {content: \"\";width: 100%;border-bottom: 1px solid gray;flex-grow: 1;}#sk-container-id-2 div.sk-label:hover label.sk-toggleable__label {background-color: #d4ebff;}#sk-container-id-2 div.sk-serial::before {content: \"\";position: absolute;border-left: 1px solid gray;box-sizing: border-box;top: 0;bottom: 0;left: 50%;z-index: 0;}#sk-container-id-2 div.sk-serial {display: flex;flex-direction: column;align-items: center;background-color: white;padding-right: 0.2em;padding-left: 0.2em;position: relative;}#sk-container-id-2 div.sk-item {position: relative;z-index: 1;}#sk-container-id-2 div.sk-parallel {display: flex;align-items: stretch;justify-content: center;background-color: white;position: relative;}#sk-container-id-2 div.sk-item::before, #sk-container-id-2 div.sk-parallel-item::before {content: \"\";position: absolute;border-left: 1px solid gray;box-sizing: border-box;top: 0;bottom: 0;left: 50%;z-index: -1;}#sk-container-id-2 div.sk-parallel-item {display: flex;flex-direction: column;z-index: 1;position: relative;background-color: white;}#sk-container-id-2 div.sk-parallel-item:first-child::after {align-self: flex-end;width: 50%;}#sk-container-id-2 div.sk-parallel-item:last-child::after {align-self: flex-start;width: 50%;}#sk-container-id-2 div.sk-parallel-item:only-child::after {width: 0;}#sk-container-id-2 div.sk-dashed-wrapped {border: 1px dashed gray;margin: 0 0.4em 0.5em 0.4em;box-sizing: border-box;padding-bottom: 0.4em;background-color: white;}#sk-container-id-2 div.sk-label label {font-family: monospace;font-weight: bold;display: inline-block;line-height: 1.2em;}#sk-container-id-2 div.sk-label-container {text-align: center;}#sk-container-id-2 div.sk-container {/* jupyter's `normalize.less` sets `[hidden] { display: none; }` but bootstrap.min.css set `[hidden] { display: none !important; }` so we also need the `!important` here to be able to override the default hidden behavior on the sphinx rendered scikit-learn.org. See: https://github.com/scikit-learn/scikit-learn/issues/21755 */display: inline-block !important;position: relative;}#sk-container-id-2 div.sk-text-repr-fallback {display: none;}</style><div id=\"sk-container-id-2\" class=\"sk-top-container\"><div class=\"sk-text-repr-fallback\"><pre>RandomForestClassifier(n_jobs=-1)</pre><b>In a Jupyter environment, please rerun this cell to show the HTML representation or trust the notebook. <br />On GitHub, the HTML representation is unable to render, please try loading this page with nbviewer.org.</b></div><div class=\"sk-container\" hidden><div class=\"sk-item\"><div class=\"sk-estimator sk-toggleable\"><input class=\"sk-toggleable__control sk-hidden--visually\" id=\"sk-estimator-id-2\" type=\"checkbox\" checked><label for=\"sk-estimator-id-2\" class=\"sk-toggleable__label sk-toggleable__label-arrow\">RandomForestClassifier</label><div class=\"sk-toggleable__content\"><pre>RandomForestClassifier(n_jobs=-1)</pre></div></div></div></div></div>"
      ],
      "text/plain": [
       "RandomForestClassifier(n_jobs=-1)"
      ]
     },
     "execution_count": 123,
     "metadata": {},
     "output_type": "execute_result"
    }
   ],
   "source": [
    "rf.fit(X_train,y_train)"
   ]
  },
  {
   "cell_type": "code",
   "execution_count": 124,
   "metadata": {},
   "outputs": [],
   "source": [
    "rf_pred=rf.predict(X_test)"
   ]
  },
  {
   "cell_type": "code",
   "execution_count": 125,
   "metadata": {},
   "outputs": [
    {
     "name": "stdout",
     "output_type": "stream",
     "text": [
      "Accuracy: 0.9544768069039914\n",
      "Confusion Matrix:\n",
      "[[2998   75]\n",
      " [ 136 1426]]\n",
      "Precision: 0.950033311125916\n",
      "Recall: 0.912932138284251\n",
      "F1-Score: 0.93111328762651\n"
     ]
    }
   ],
   "source": [
    "from sklearn.metrics import accuracy_score\n",
    "accuracy_rf = accuracy_score(y_test, rf_pred)\n",
    "print('Accuracy:', accuracy_rf)\n",
    "\n",
    "from sklearn.metrics import confusion_matrix\n",
    "cm = confusion_matrix(y_test, rf_pred)\n",
    "print(\"Confusion Matrix:\")\n",
    "print(cm)\n",
    "\n",
    "from sklearn.metrics import precision_score, recall_score, f1_score\n",
    "\n",
    "precision_rf = precision_score(y_test, rf_pred)\n",
    "recall_rf = recall_score(y_test, rf_pred)\n",
    "f1_rf = f1_score(y_test, rf_pred)\n",
    "\n",
    "print(\"Precision:\", precision_rf)\n",
    "print(\"Recall:\", recall_rf)\n",
    "print(\"F1-Score:\", f1_rf)"
   ]
  },
  {
   "cell_type": "code",
   "execution_count": 128,
   "metadata": {},
   "outputs": [
    {
     "name": "stdout",
     "output_type": "stream",
     "text": [
      "              precision    recall  f1-score   support\n",
      "\n",
      "    Negative       0.96      0.98      0.97      3073\n",
      "    Positive       0.95      0.91      0.93      1562\n",
      "\n",
      "    accuracy                           0.95      4635\n",
      "   macro avg       0.95      0.94      0.95      4635\n",
      "weighted avg       0.95      0.95      0.95      4635\n",
      "\n"
     ]
    }
   ],
   "source": [
    "from sklearn.metrics import classification_report\n",
    "report = classification_report(y_test, rf_pred,target_names=['Negative','Positive'])\n",
    "print(report)"
   ]
  },
  {
   "cell_type": "code",
   "execution_count": null,
   "metadata": {},
   "outputs": [],
   "source": []
  }
 ],
 "metadata": {
  "kernelspec": {
   "display_name": "Python 3",
   "language": "python",
   "name": "python3"
  },
  "language_info": {
   "codemirror_mode": {
    "name": "ipython",
    "version": 3
   },
   "file_extension": ".py",
   "mimetype": "text/x-python",
   "name": "python",
   "nbconvert_exporter": "python",
   "pygments_lexer": "ipython3",
   "version": "3.11.4"
  },
  "orig_nbformat": 4
 },
 "nbformat": 4,
 "nbformat_minor": 2
}
